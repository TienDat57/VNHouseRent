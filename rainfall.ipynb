{
 "cells": [
  {
   "attachments": {},
   "cell_type": "markdown",
   "metadata": {},
   "source": [
    "# Final Project\n",
    "\n",
    "\n",
    "**Group information**\n",
    "\n",
    "Student 1: 20127084 - Nguyễn Ngọc Bảo Trâm\n",
    "\n",
    "Student 2: 20127438 - Đặng Tiến Đạt\n",
    "\n",
    "Student 3: 20127627 - Nguyễn Quốc Thắng\n",
    "\n",
    "Student 4: 20127680 - Phạm Thị Ánh Phát"
   ]
  },
  {
   "attachments": {},
   "cell_type": "markdown",
   "metadata": {},
   "source": [
    "--- "
   ]
  },
  {
   "attachments": {},
   "cell_type": "markdown",
   "metadata": {},
   "source": [
    "## Import libraries"
   ]
  },
  {
   "cell_type": "code",
   "execution_count": 3,
   "metadata": {},
   "outputs": [],
   "source": [
    "import numpy as np\n",
    "import pandas as pd"
   ]
  },
  {
   "attachments": {},
   "cell_type": "markdown",
   "metadata": {},
   "source": [
    "---"
   ]
  },
  {
   "attachments": {},
   "cell_type": "markdown",
   "metadata": {},
   "source": [
    "## A. Data Collection"
   ]
  },
  {
   "attachments": {},
   "cell_type": "markdown",
   "metadata": {},
   "source": [
    "### What subject is data about? What is the source of the data?"
   ]
  },
  {
   "attachments": {},
   "cell_type": "markdown",
   "metadata": {},
   "source": [
    "- Climate change is a serious issue resulting in\n",
    "global variation in the temperature and precipitation pattern. In this study, 117 years of rainfall trends in India (1901–2017) were examined. In order to understand how India's climate is changing, the annual, seasonal, and monthly fluctuations in various regions of the country were examined. The net excess or deficit of rainfall in India was then determined.\n",
    "- We will use the dataset that has already been collected and is attached as \"rainfall.csv\" in this assignment. This is information about **Sub Divisional Monthly Rainfall from 1901 to 2017 in India**. This data is fetched from [here](https://data.gov.in/resource/sub-divisional-monthly-rainfall-1901-2017)."
   ]
  },
  {
   "attachments": {},
   "cell_type": "markdown",
   "metadata": {},
   "source": [
    "### Do authors of this data allow you to use like this?"
   ]
  },
  {
   "attachments": {},
   "cell_type": "markdown",
   "metadata": {},
   "source": [
    "- Data files © Original Authors\n",
    "- Published on 18/12/2018"
   ]
  },
  {
   "attachments": {},
   "cell_type": "markdown",
   "metadata": {},
   "source": [
    "### How did authors collect data?"
   ]
  },
  {
   "attachments": {},
   "cell_type": "markdown",
   "metadata": {},
   "source": [
    "- The data is collected from the India Meteorological Department (IMD) and the State Governments."
   ]
  }
 ],
 "metadata": {
  "kernelspec": {
   "display_name": "min_ds-env",
   "language": "python",
   "name": "python3"
  },
  "language_info": {
   "codemirror_mode": {
    "name": "ipython",
    "version": 3
   },
   "file_extension": ".py",
   "mimetype": "text/x-python",
   "name": "python",
   "nbconvert_exporter": "python",
   "pygments_lexer": "ipython3",
   "version": "3.8.8"
  },
  "orig_nbformat": 4,
  "vscode": {
   "interpreter": {
    "hash": "a5e1ec076bd572246a92e5395011ccb4d0c3c0a63992a65b30abbf30f49ecb0c"
   }
  }
 },
 "nbformat": 4,
 "nbformat_minor": 2
}
