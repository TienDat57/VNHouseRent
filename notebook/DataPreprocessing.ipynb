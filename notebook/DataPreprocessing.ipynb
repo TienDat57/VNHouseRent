{
 "cells": [
  {
   "attachments": {},
   "cell_type": "markdown",
   "metadata": {},
   "source": [
    "## **Data Cleaning and Preparation**"
   ]
  },
  {
   "attachments": {},
   "cell_type": "markdown",
   "metadata": {},
   "source": [
    "### **Importing libraries needed for this step**"
   ]
  },
  {
   "cell_type": "code",
   "execution_count": 20,
   "metadata": {},
   "outputs": [],
   "source": [
    "import numpy as np\n",
    "import pandas as pd"
   ]
  },
  {
   "attachments": {},
   "cell_type": "markdown",
   "metadata": {},
   "source": [
    "### **Reading the data**"
   ]
  },
  {
   "cell_type": "code",
   "execution_count": 21,
   "metadata": {},
   "outputs": [
    {
     "data": {
      "text/html": [
       "<div>\n",
       "<style scoped>\n",
       "    .dataframe tbody tr th:only-of-type {\n",
       "        vertical-align: middle;\n",
       "    }\n",
       "\n",
       "    .dataframe tbody tr th {\n",
       "        vertical-align: top;\n",
       "    }\n",
       "\n",
       "    .dataframe thead th {\n",
       "        text-align: right;\n",
       "    }\n",
       "</style>\n",
       "<table border=\"1\" class=\"dataframe\">\n",
       "  <thead>\n",
       "    <tr style=\"text-align: right;\">\n",
       "      <th></th>\n",
       "      <th>title</th>\n",
       "      <th>price</th>\n",
       "      <th>published</th>\n",
       "      <th>acreage</th>\n",
       "      <th>address</th>\n",
       "    </tr>\n",
       "  </thead>\n",
       "  <tbody>\n",
       "    <tr>\n",
       "      <th>0</th>\n",
       "      <td>Cho thuê nhà trọ mới sạch đẹp tại Lê Đình Cẩn,...</td>\n",
       "      <td>2.2</td>\n",
       "      <td>16/05/2022</td>\n",
       "      <td>20.0</td>\n",
       "      <td>Lê Đình Cẩn, Phường Tân Tạo, Quận Bình Tân, Hồ...</td>\n",
       "    </tr>\n",
       "    <tr>\n",
       "      <th>1</th>\n",
       "      <td>Cho thuê phòng trọ giá rẻ ở mặt tiền hẻm lớn Đ...</td>\n",
       "      <td>2.5</td>\n",
       "      <td>20/04/2022</td>\n",
       "      <td>20.0</td>\n",
       "      <td>487/35/25 Đường Huỳnh Tấn Phát, Phường Tân Thu...</td>\n",
       "    </tr>\n",
       "    <tr>\n",
       "      <th>2</th>\n",
       "      <td>Cho thuê phòng trọ kdc Nam Long-Trần Trọng Cun...</td>\n",
       "      <td>3.5</td>\n",
       "      <td>10/05/2022</td>\n",
       "      <td>30.0</td>\n",
       "      <td>Đường 10, Phường Tân Thuận Đông, Quận 7, Hồ Ch...</td>\n",
       "    </tr>\n",
       "    <tr>\n",
       "      <th>3</th>\n",
       "      <td>Phòng trọ giá rẻ ngay cổng khu chế xuất Tân Th...</td>\n",
       "      <td>1.5</td>\n",
       "      <td>05/05/2022</td>\n",
       "      <td>30.0</td>\n",
       "      <td>283/15 Huỳnh Tấn Phát, Phường Tân Thuận Đông, ...</td>\n",
       "    </tr>\n",
       "    <tr>\n",
       "      <th>4</th>\n",
       "      <td>Cho thuê phòng có gác, không gác, tolet riêng ...</td>\n",
       "      <td>3.5</td>\n",
       "      <td>05/01/2022</td>\n",
       "      <td>18.0</td>\n",
       "      <td>Lê Văn Sỹ, Phường 14, Quận Phú Nhuận, Hồ Chí Minh</td>\n",
       "    </tr>\n",
       "    <tr>\n",
       "      <th>5</th>\n",
       "      <td>Phòng cho thuê dành cho người đi làm, gần nhiề...</td>\n",
       "      <td>2.2</td>\n",
       "      <td>05/11/2020</td>\n",
       "      <td>15.0</td>\n",
       "      <td>174/15 Đường Đặng Văn Ngữ, Phường 14, Quận Phú...</td>\n",
       "    </tr>\n",
       "    <tr>\n",
       "      <th>6</th>\n",
       "      <td>Cho thuê phòng ( nguyên tầng) ban công mặt tiề...</td>\n",
       "      <td>4.5</td>\n",
       "      <td>10/03/2022</td>\n",
       "      <td>20.0</td>\n",
       "      <td>311 Nguyễn Thiện Thuật, Phường 1, Quận 3, Hồ C...</td>\n",
       "    </tr>\n",
       "    <tr>\n",
       "      <th>7</th>\n",
       "      <td>PHÒNG ĐẸP MỚI XÂY,KHÔNG CHUNG CHỦ ,ĐƯỜNG AN DƯ...</td>\n",
       "      <td>3.0</td>\n",
       "      <td>19/07/2022</td>\n",
       "      <td>16.0</td>\n",
       "      <td>Đường số 4, Phường 16, Quận 8, Hồ Chí Minh</td>\n",
       "    </tr>\n",
       "    <tr>\n",
       "      <th>8</th>\n",
       "      <td>Phòng 25m2 full tiện nghi Nguyễn Thiện Thuật, ...</td>\n",
       "      <td>4.5</td>\n",
       "      <td>30/03/2022</td>\n",
       "      <td>25.0</td>\n",
       "      <td>Phố Nguyễn Thiện Thuật, Phường 1, Quận 3, Hồ C...</td>\n",
       "    </tr>\n",
       "    <tr>\n",
       "      <th>9</th>\n",
       "      <td>Chính chủ cho thuê phòng 18m2 tai Đặng Văn Ngữ...</td>\n",
       "      <td>3.0</td>\n",
       "      <td>05/11/2020</td>\n",
       "      <td>18.0</td>\n",
       "      <td>Đường Đặng Văn Ngữ, Phường 14, Quận Phú Nhuận,...</td>\n",
       "    </tr>\n",
       "  </tbody>\n",
       "</table>\n",
       "</div>"
      ],
      "text/plain": [
       "                                               title  price   published  \\\n",
       "0  Cho thuê nhà trọ mới sạch đẹp tại Lê Đình Cẩn,...    2.2  16/05/2022   \n",
       "1  Cho thuê phòng trọ giá rẻ ở mặt tiền hẻm lớn Đ...    2.5  20/04/2022   \n",
       "2  Cho thuê phòng trọ kdc Nam Long-Trần Trọng Cun...    3.5  10/05/2022   \n",
       "3  Phòng trọ giá rẻ ngay cổng khu chế xuất Tân Th...    1.5  05/05/2022   \n",
       "4  Cho thuê phòng có gác, không gác, tolet riêng ...    3.5  05/01/2022   \n",
       "5  Phòng cho thuê dành cho người đi làm, gần nhiề...    2.2  05/11/2020   \n",
       "6  Cho thuê phòng ( nguyên tầng) ban công mặt tiề...    4.5  10/03/2022   \n",
       "7  PHÒNG ĐẸP MỚI XÂY,KHÔNG CHUNG CHỦ ,ĐƯỜNG AN DƯ...    3.0  19/07/2022   \n",
       "8  Phòng 25m2 full tiện nghi Nguyễn Thiện Thuật, ...    4.5  30/03/2022   \n",
       "9  Chính chủ cho thuê phòng 18m2 tai Đặng Văn Ngữ...    3.0  05/11/2020   \n",
       "\n",
       "   acreage                                            address  \n",
       "0     20.0  Lê Đình Cẩn, Phường Tân Tạo, Quận Bình Tân, Hồ...  \n",
       "1     20.0  487/35/25 Đường Huỳnh Tấn Phát, Phường Tân Thu...  \n",
       "2     30.0  Đường 10, Phường Tân Thuận Đông, Quận 7, Hồ Ch...  \n",
       "3     30.0  283/15 Huỳnh Tấn Phát, Phường Tân Thuận Đông, ...  \n",
       "4     18.0  Lê Văn Sỹ, Phường 14, Quận Phú Nhuận, Hồ Chí Minh  \n",
       "5     15.0  174/15 Đường Đặng Văn Ngữ, Phường 14, Quận Phú...  \n",
       "6     20.0  311 Nguyễn Thiện Thuật, Phường 1, Quận 3, Hồ C...  \n",
       "7     16.0         Đường số 4, Phường 16, Quận 8, Hồ Chí Minh  \n",
       "8     25.0  Phố Nguyễn Thiện Thuật, Phường 1, Quận 3, Hồ C...  \n",
       "9     18.0  Đường Đặng Văn Ngữ, Phường 14, Quận Phú Nhuận,...  "
      ]
     },
     "execution_count": 21,
     "metadata": {},
     "output_type": "execute_result"
    }
   ],
   "source": [
    "HCMHouseRent = pd.read_csv('../data/HCMHouseRent.csv')\n",
    "HCMHouseRent.head(10)"
   ]
  },
  {
   "cell_type": "code",
   "execution_count": 22,
   "metadata": {},
   "outputs": [
    {
     "name": "stdout",
     "output_type": "stream",
     "text": [
      "<class 'pandas.core.frame.DataFrame'>\n",
      "RangeIndex: 9733 entries, 0 to 9732\n",
      "Data columns (total 5 columns):\n",
      " #   Column     Non-Null Count  Dtype  \n",
      "---  ------     --------------  -----  \n",
      " 0   title      9733 non-null   object \n",
      " 1   price      9733 non-null   float64\n",
      " 2   published  9733 non-null   object \n",
      " 3   acreage    9733 non-null   float64\n",
      " 4   address    9733 non-null   object \n",
      "dtypes: float64(2), object(3)\n",
      "memory usage: 380.3+ KB\n"
     ]
    },
    {
     "data": {
      "text/plain": [
       "title         object\n",
       "price        float64\n",
       "published     object\n",
       "acreage      float64\n",
       "address       object\n",
       "dtype: object"
      ]
     },
     "execution_count": 22,
     "metadata": {},
     "output_type": "execute_result"
    }
   ],
   "source": [
    "HCMHouseRent.info()\n",
    "HCMHouseRent.dtypes"
   ]
  },
  {
   "attachments": {},
   "cell_type": "markdown",
   "metadata": {},
   "source": [
    ">We see, published column is date time but now it's object. So, we need change to datetime"
   ]
  },
  {
   "attachments": {},
   "cell_type": "markdown",
   "metadata": {},
   "source": [
    "### **1. Format column**"
   ]
  },
  {
   "cell_type": "code",
   "execution_count": 23,
   "metadata": {},
   "outputs": [],
   "source": [
    "def convert_date(date):\n",
    "    dateSplit = date.split('/')\n",
    "    if(len(dateSplit) != 3):\n",
    "        return np.nan\n",
    "    return date\n",
    "\n",
    "HCMHouseRent['published'] = HCMHouseRent['published'].apply(lambda x: convert_date(x))\n",
    "HCMHouseRent.dropna(inplace=True)\n"
   ]
  },
  {
   "cell_type": "code",
   "execution_count": 24,
   "metadata": {},
   "outputs": [],
   "source": [
    "# format column 'publised' to datetime\n",
    "HCMHouseRent['published'] = pd.to_datetime(HCMHouseRent['published'], format='%d/%m/%Y')"
   ]
  },
  {
   "cell_type": "code",
   "execution_count": 25,
   "metadata": {},
   "outputs": [
    {
     "name": "stdout",
     "output_type": "stream",
     "text": [
      "<class 'pandas.core.frame.DataFrame'>\n",
      "Int64Index: 9502 entries, 0 to 9732\n",
      "Data columns (total 5 columns):\n",
      " #   Column     Non-Null Count  Dtype         \n",
      "---  ------     --------------  -----         \n",
      " 0   title      9502 non-null   object        \n",
      " 1   price      9502 non-null   float64       \n",
      " 2   published  9502 non-null   datetime64[ns]\n",
      " 3   acreage    9502 non-null   float64       \n",
      " 4   address    9502 non-null   object        \n",
      "dtypes: datetime64[ns](1), float64(2), object(2)\n",
      "memory usage: 445.4+ KB\n"
     ]
    }
   ],
   "source": [
    "HCMHouseRent.info()"
   ]
  },
  {
   "attachments": {},
   "cell_type": "markdown",
   "metadata": {},
   "source": [
    ">Because the price column has a format of 2.2 instead of 2,200,000. Computational difficulty. So I'll convert it to millions"
   ]
  },
  {
   "cell_type": "code",
   "execution_count": 26,
   "metadata": {},
   "outputs": [
    {
     "data": {
      "text/html": [
       "<div>\n",
       "<style scoped>\n",
       "    .dataframe tbody tr th:only-of-type {\n",
       "        vertical-align: middle;\n",
       "    }\n",
       "\n",
       "    .dataframe tbody tr th {\n",
       "        vertical-align: top;\n",
       "    }\n",
       "\n",
       "    .dataframe thead th {\n",
       "        text-align: right;\n",
       "    }\n",
       "</style>\n",
       "<table border=\"1\" class=\"dataframe\">\n",
       "  <thead>\n",
       "    <tr style=\"text-align: right;\">\n",
       "      <th></th>\n",
       "      <th>title</th>\n",
       "      <th>price</th>\n",
       "      <th>published</th>\n",
       "      <th>acreage</th>\n",
       "      <th>address</th>\n",
       "    </tr>\n",
       "  </thead>\n",
       "  <tbody>\n",
       "    <tr>\n",
       "      <th>0</th>\n",
       "      <td>Cho thuê nhà trọ mới sạch đẹp tại Lê Đình Cẩn,...</td>\n",
       "      <td>2200000</td>\n",
       "      <td>2022-05-16</td>\n",
       "      <td>20.0</td>\n",
       "      <td>Lê Đình Cẩn, Phường Tân Tạo, Quận Bình Tân, Hồ...</td>\n",
       "    </tr>\n",
       "    <tr>\n",
       "      <th>1</th>\n",
       "      <td>Cho thuê phòng trọ giá rẻ ở mặt tiền hẻm lớn Đ...</td>\n",
       "      <td>2500000</td>\n",
       "      <td>2022-04-20</td>\n",
       "      <td>20.0</td>\n",
       "      <td>487/35/25 Đường Huỳnh Tấn Phát, Phường Tân Thu...</td>\n",
       "    </tr>\n",
       "    <tr>\n",
       "      <th>2</th>\n",
       "      <td>Cho thuê phòng trọ kdc Nam Long-Trần Trọng Cun...</td>\n",
       "      <td>3500000</td>\n",
       "      <td>2022-05-10</td>\n",
       "      <td>30.0</td>\n",
       "      <td>Đường 10, Phường Tân Thuận Đông, Quận 7, Hồ Ch...</td>\n",
       "    </tr>\n",
       "    <tr>\n",
       "      <th>3</th>\n",
       "      <td>Phòng trọ giá rẻ ngay cổng khu chế xuất Tân Th...</td>\n",
       "      <td>1500000</td>\n",
       "      <td>2022-05-05</td>\n",
       "      <td>30.0</td>\n",
       "      <td>283/15 Huỳnh Tấn Phát, Phường Tân Thuận Đông, ...</td>\n",
       "    </tr>\n",
       "    <tr>\n",
       "      <th>4</th>\n",
       "      <td>Cho thuê phòng có gác, không gác, tolet riêng ...</td>\n",
       "      <td>3500000</td>\n",
       "      <td>2022-01-05</td>\n",
       "      <td>18.0</td>\n",
       "      <td>Lê Văn Sỹ, Phường 14, Quận Phú Nhuận, Hồ Chí Minh</td>\n",
       "    </tr>\n",
       "    <tr>\n",
       "      <th>5</th>\n",
       "      <td>Phòng cho thuê dành cho người đi làm, gần nhiề...</td>\n",
       "      <td>2200000</td>\n",
       "      <td>2020-11-05</td>\n",
       "      <td>15.0</td>\n",
       "      <td>174/15 Đường Đặng Văn Ngữ, Phường 14, Quận Phú...</td>\n",
       "    </tr>\n",
       "    <tr>\n",
       "      <th>6</th>\n",
       "      <td>Cho thuê phòng ( nguyên tầng) ban công mặt tiề...</td>\n",
       "      <td>4500000</td>\n",
       "      <td>2022-03-10</td>\n",
       "      <td>20.0</td>\n",
       "      <td>311 Nguyễn Thiện Thuật, Phường 1, Quận 3, Hồ C...</td>\n",
       "    </tr>\n",
       "    <tr>\n",
       "      <th>7</th>\n",
       "      <td>PHÒNG ĐẸP MỚI XÂY,KHÔNG CHUNG CHỦ ,ĐƯỜNG AN DƯ...</td>\n",
       "      <td>3000000</td>\n",
       "      <td>2022-07-19</td>\n",
       "      <td>16.0</td>\n",
       "      <td>Đường số 4, Phường 16, Quận 8, Hồ Chí Minh</td>\n",
       "    </tr>\n",
       "    <tr>\n",
       "      <th>8</th>\n",
       "      <td>Phòng 25m2 full tiện nghi Nguyễn Thiện Thuật, ...</td>\n",
       "      <td>4500000</td>\n",
       "      <td>2022-03-30</td>\n",
       "      <td>25.0</td>\n",
       "      <td>Phố Nguyễn Thiện Thuật, Phường 1, Quận 3, Hồ C...</td>\n",
       "    </tr>\n",
       "    <tr>\n",
       "      <th>9</th>\n",
       "      <td>Chính chủ cho thuê phòng 18m2 tai Đặng Văn Ngữ...</td>\n",
       "      <td>3000000</td>\n",
       "      <td>2020-11-05</td>\n",
       "      <td>18.0</td>\n",
       "      <td>Đường Đặng Văn Ngữ, Phường 14, Quận Phú Nhuận,...</td>\n",
       "    </tr>\n",
       "  </tbody>\n",
       "</table>\n",
       "</div>"
      ],
      "text/plain": [
       "                                               title    price  published  \\\n",
       "0  Cho thuê nhà trọ mới sạch đẹp tại Lê Đình Cẩn,...  2200000 2022-05-16   \n",
       "1  Cho thuê phòng trọ giá rẻ ở mặt tiền hẻm lớn Đ...  2500000 2022-04-20   \n",
       "2  Cho thuê phòng trọ kdc Nam Long-Trần Trọng Cun...  3500000 2022-05-10   \n",
       "3  Phòng trọ giá rẻ ngay cổng khu chế xuất Tân Th...  1500000 2022-05-05   \n",
       "4  Cho thuê phòng có gác, không gác, tolet riêng ...  3500000 2022-01-05   \n",
       "5  Phòng cho thuê dành cho người đi làm, gần nhiề...  2200000 2020-11-05   \n",
       "6  Cho thuê phòng ( nguyên tầng) ban công mặt tiề...  4500000 2022-03-10   \n",
       "7  PHÒNG ĐẸP MỚI XÂY,KHÔNG CHUNG CHỦ ,ĐƯỜNG AN DƯ...  3000000 2022-07-19   \n",
       "8  Phòng 25m2 full tiện nghi Nguyễn Thiện Thuật, ...  4500000 2022-03-30   \n",
       "9  Chính chủ cho thuê phòng 18m2 tai Đặng Văn Ngữ...  3000000 2020-11-05   \n",
       "\n",
       "   acreage                                            address  \n",
       "0     20.0  Lê Đình Cẩn, Phường Tân Tạo, Quận Bình Tân, Hồ...  \n",
       "1     20.0  487/35/25 Đường Huỳnh Tấn Phát, Phường Tân Thu...  \n",
       "2     30.0  Đường 10, Phường Tân Thuận Đông, Quận 7, Hồ Ch...  \n",
       "3     30.0  283/15 Huỳnh Tấn Phát, Phường Tân Thuận Đông, ...  \n",
       "4     18.0  Lê Văn Sỹ, Phường 14, Quận Phú Nhuận, Hồ Chí Minh  \n",
       "5     15.0  174/15 Đường Đặng Văn Ngữ, Phường 14, Quận Phú...  \n",
       "6     20.0  311 Nguyễn Thiện Thuật, Phường 1, Quận 3, Hồ C...  \n",
       "7     16.0         Đường số 4, Phường 16, Quận 8, Hồ Chí Minh  \n",
       "8     25.0  Phố Nguyễn Thiện Thuật, Phường 1, Quận 3, Hồ C...  \n",
       "9     18.0  Đường Đặng Văn Ngữ, Phường 14, Quận Phú Nhuận,...  "
      ]
     },
     "execution_count": 26,
     "metadata": {},
     "output_type": "execute_result"
    }
   ],
   "source": [
    "HCMHouseRent['price'] = HCMHouseRent['price'].apply(lambda x: int(x*1000000))\n",
    "HCMHouseRent.head(10)"
   ]
  },
  {
   "attachments": {},
   "cell_type": "markdown",
   "metadata": {},
   "source": [
    ">Due to address is too long, we will split it into 3 column: street, wart and district"
   ]
  },
  {
   "cell_type": "code",
   "execution_count": 27,
   "metadata": {},
   "outputs": [],
   "source": [
    "def convert_address(address):\n",
    "    addressSplit = address.split(',')\n",
    "    if(len(addressSplit) != 4):\n",
    "        return np.nan\n",
    "    return address\n",
    "\n",
    "HCMHouseRent['address'] = HCMHouseRent['address'].apply(lambda x: convert_address(x))\n",
    "HCMHouseRent.dropna(inplace=True)"
   ]
  },
  {
   "cell_type": "code",
   "execution_count": 28,
   "metadata": {},
   "outputs": [
    {
     "data": {
      "text/plain": [
       "(8957, 7)"
      ]
     },
     "execution_count": 28,
     "metadata": {},
     "output_type": "execute_result"
    }
   ],
   "source": [
    "# split column 'address' to 'street', 'ward', 'district', 'city'\n",
    "HCMHouseRent['street'] = HCMHouseRent['address'].apply(lambda x: x.split(',')[0])\n",
    "HCMHouseRent['ward'] = HCMHouseRent['address'].apply(lambda x: x.split(',')[1])\n",
    "HCMHouseRent['district'] = HCMHouseRent['address'].apply(lambda x: x.split(',')[len(x.split(','))-2])\n",
    "\n",
    "# drop column 'address'\n",
    "HCMHouseRent.drop(columns=['address'], inplace=True)\n",
    "HCMHouseRent.shape"
   ]
  },
  {
   "cell_type": "code",
   "execution_count": 29,
   "metadata": {},
   "outputs": [
    {
     "data": {
      "text/plain": [
       "array([' Quận Bình Tân', ' Quận 7', ' Quận Phú Nhuận', ' Quận 3',\n",
       "       ' Quận 8', ' Quận 6', ' Quận 4', ' Quận 10', ' Huyện Nhà Bè',\n",
       "       ' Phú Nhuận', ' Quận 11', ' Quận 5', ' phường 8', ' Q.4', 'Quận 4',\n",
       "       'quận 8', ' Q.8', ' phường 12', ' Q.11', ' Q.3', ' Quận Gò Vấp',\n",
       "       ' Quận Gò Vấp', ' quận gò vấp', ' Quận 12', ' Quận 1',\n",
       "       ' Phường Đông Hưng Thuận', ' Quận 9', ' quận 10',\n",
       "       ' Quận 9 (có thể đi xe buýt', ' P.03', ' Quận Bình Thạnh', ' P.28',\n",
       "       ' Q.Bình Tân', ' Quận Tân Bình', ' Quận Tân Phú', ' Huyện Củ Chi',\n",
       "       ' Huyện Bình Chánh', ' Quận 2', ' P.Bình An', ' Huyện Củ aChi',\n",
       "       ' Quận Thủ Đức', ' Linh Xuân', ' Q.Thủ Đức', ' Tam Phú',\n",
       "       ' phường Bình Thọ', ' Q. Thủ Đức', ' Huyện Hóc Môn'], dtype=object)"
      ]
     },
     "execution_count": 29,
     "metadata": {},
     "output_type": "execute_result"
    }
   ],
   "source": [
    "districts = HCMHouseRent['district'].unique()\n",
    "districts"
   ]
  },
  {
   "cell_type": "code",
   "execution_count": 30,
   "metadata": {},
   "outputs": [
    {
     "data": {
      "text/plain": [
       "array(['Quận Bình Tân', 'Quận 7', 'Quận Phú Nhuận', 'Quận 3', 'Quận 8',\n",
       "       'Quận 6', 'Quận 4', 'Quận 10', 'Huyện Nhà Bè', 'Phú Nhuận',\n",
       "       'Quận 11', 'Quận 5', 'Quận Gò Vấp', 'Quận Gò Vấp', 'Quận gò vấp',\n",
       "       'Quận 12', 'Quận 1', 'Quận 9', 'Quận 9 (có thể đi xe buýt',\n",
       "       'Quận Bình Thạnh', 'Quận Tân Bình', 'Quận Tân Phú', 'Huyện Củ Chi',\n",
       "       'Huyện Bình Chánh', 'Quận 2', 'Huyện Củ aChi', 'Quận Thủ Đức',\n",
       "       'Linh Xuân', 'Tam Phú', 'Huyện Hóc Môn'], dtype=object)"
      ]
     },
     "execution_count": 30,
     "metadata": {},
     "output_type": "execute_result"
    }
   ],
   "source": [
    "districts_of_HCM = ['Quận 1', 'Quận 2', 'Quận 3', 'Quận 4', 'Quận 5', 'Quận 6', 'Quận 7', 'Quận 8', 'Quận 9', 'Quận 10', 'Quận 11', 'Quận 12', \\\n",
    "                    'Quận Bình Tân', 'Quận Bình Thạnh', 'Quận Gò Vấp', 'Quận Phú Nhuận', 'Quận Tân Bình', 'Quận Tân Phú', 'Quận Thủ Đức', 'Huyện Bình Chánh', 'Huyện Cần Giờ', 'Huyện Củ Chi', 'Huyện Hóc Môn', 'Huyện Nhà Bè']\n",
    "districts_error_value = ['P.', 'phường', 'Phường']\n",
    "districts_wrong_value = ['Q.', 'q.', 'quận']\n",
    "\n",
    "def check_district_error(district_param):\n",
    "   for error_value in districts_error_value:\n",
    "      if error_value in district_param:\n",
    "         return False\n",
    "   return True\n",
    "   \n",
    "def handle_district_wrong(district_param):\n",
    "   for wrong_value in districts_wrong_value:\n",
    "       if wrong_value in district_param:\n",
    "            district_param = district_param.replace(wrong_value, 'Quận ')\n",
    "            return district_param\n",
    "         \n",
    "HCMHouseRent['district'] = HCMHouseRent['district'].apply(lambda x: x if check_district_error(x) else np.nan)\n",
    "HCMHouseRent.dropna(inplace=True)\n",
    "HCMHouseRent['district'] = HCMHouseRent['district'].apply(lambda x: handle_district_wrong(x) if handle_district_wrong(x) else x)\n",
    "HCMHouseRent.dropna(inplace=True)\n",
    "HCMHouseRent['district'] = HCMHouseRent['district'].apply(lambda x: ' '.join(x.split()))\n",
    "HCMHouseRent['district'].unique()"
   ]
  },
  {
   "attachments": {},
   "cell_type": "markdown",
   "metadata": {},
   "source": [
    "#### ***Fixing invalid value in District column***"
   ]
  },
  {
   "cell_type": "code",
   "execution_count": 31,
   "metadata": {},
   "outputs": [
    {
     "data": {
      "text/plain": [
       "array(['Quận Bình Tân', 'Quận 7', 'Quận Phú Nhuận', 'Quận 3', 'Quận 8',\n",
       "       'Quận 6', 'Quận 4', 'Quận 10', 'Huyện Nhà Bè', 'Quận 11', 'Quận 5',\n",
       "       'Quận Gò Vấp', 'Quận 12', 'Quận 1', 'Quận 9', 'Quận Bình Thạnh',\n",
       "       'Quận Tân Bình', 'Quận Tân Phú', 'Huyện Củ Chi',\n",
       "       'Huyện Bình Chánh', 'Quận 2', 'Quận Thủ Đức', 'Huyện Hóc Môn'],\n",
       "      dtype=object)"
      ]
     },
     "execution_count": 31,
     "metadata": {},
     "output_type": "execute_result"
    }
   ],
   "source": [
    "def replace_district(a,b):\n",
    "    HCMHouseRent['district'].replace(a,b,inplace=True)\n",
    "\n",
    "replace_district('Phú Nhuận', 'Quận Phú Nhuận')\n",
    "replace_district('Huyện Củ aChi','Huyện Củ Chi')\n",
    "replace_district('Quận 9 (có thể đi xe buýt','Quận 9')\n",
    "replace_district('Quận gò vấp','Quận Gò Vấp')\n",
    "replace_district('Quận Gò Vấp','Quận Gò Vấp')\n",
    "HCMHouseRent.drop(HCMHouseRent[HCMHouseRent['district'] == 'Tam Phú'].index, inplace=True)\n",
    "HCMHouseRent.drop(HCMHouseRent[HCMHouseRent['district'] == 'Linh Xuân'].index, inplace=True)\n",
    "\n",
    "HCMHouseRent['district'].unique()"
   ]
  },
  {
   "attachments": {},
   "cell_type": "markdown",
   "metadata": {},
   "source": [
    "#### ***Fixing invalid value in Ward column***"
   ]
  },
  {
   "cell_type": "code",
   "execution_count": 32,
   "metadata": {},
   "outputs": [
    {
     "data": {
      "text/plain": [
       "array([' Phường Tân Tạo', ' Phường Tân Thuận Đông', ' Phường 14',\n",
       "       ' Phường 1', ' Phường 16', ' Phường 18', ' Phường Tân Quy',\n",
       "       ' P.18', ' Phường 15', ' Xã Phước Lộc', ' Phường 13',\n",
       "       ' Phường Tân Phú', ' Phường 17', ' Tân Phú',\n",
       "       ' Phường Tân Thuận Tây', ' Xã Phước Kiển', ' Xã Long Thới',\n",
       "       ' Thị trấn Nhà Bè', ' Phường Hiệp Phước', ' Xã Phú Xuân',\n",
       "       ' Xã Nhơn Đức', ' Phường 12', ' Phường 8', ' Phường 4',\n",
       "       ' Phường 11', ' Phường 9', ' 9', ' Phường 6', ' Phường 10',\n",
       "       ' Phường 7', ' Phường 3', ' 6', ' P.1', ' Phường 2', ' 1',\n",
       "       ' Phường 5', ' P15', ' Phường Tân Tạo A', ' Tân Tạo A',\n",
       "       'phường 13', ' 11', ' P.7', ' 8', ' P.9', ' P4', 'Phường 5',\n",
       "       ' P.16', ' 2', ' P.11', ' phường 13', ' p3', ' P.5',\n",
       "       ' Phường Đông Hưng Thuận', ' Phường Thạnh Lộc',\n",
       "       ' Phường Nguyễn Thái Bình', ' Nguyễn Thái Bình',\n",
       "       ' Phường An Phú Đông', ' Phường Cô Giang', ' Phường Hiệp Thành',\n",
       "       ' Phường Nguyễn Cư Trinh', ' Phường Đa Kao', ' Đa Kao',\n",
       "       ' Phường Phạm Ngũ Lão', ' Phường Tân Định', ' Phường Thạnh Xuân',\n",
       "       ' Phường Tân Thới Nhất', ' Phường Tân Chánh Hiệp',\n",
       "       ' Phường Tân Hưng Thuận', ' Phường Tân Thới Hiệp',\n",
       "       ' Phường Trung Mỹ Tây', ' Phường Thới An', ' Phường Cầu Ông Lãnh',\n",
       "       ' Phường Phú Mỹ', ' Phường Bến Thành', ' Cầu Ông Lãnh', ' 10',\n",
       "       ' Phường Bình Thuận', ' Phường Cầu Kho', ' Phường Tân Hưng',\n",
       "       ' Phường Tân Phong', ' Phường Tân Kiểng', ' Phường Bến Nghé',\n",
       "       ' Bến Nghé', ' Phường Phú Thuận', ' Phường Phước Long A',\n",
       "       ' Phường Long Bình', ' Phường Long Trường', ' Phường Hiệp Phú',\n",
       "       ' Phường Tăng Nhơn Phú B', ' P.2', ' phường 2',\n",
       "       ' Phường Bình Trị Đông B', ' Bình Trị Đông B',\n",
       "       ' Phường Long Thạnh Mỹ', ' Phường Phú Hữu', ' Phường Long Phước',\n",
       "       ' Phường Tăng Nhơn Phú A', ' Phường Phước Long B',\n",
       "       ' Phường Phước Bình', ' Phường Trường Thạnh', ' P.6',\n",
       "       ' Phường Bình Trị Đông', ' Phường An Lạc', ' Phường 26',\n",
       "       ' Phường 19', ' Phường 25', ' Phường 21', ' Phường 22',\n",
       "       ' Phường 24', ' Phường 27', ' Phường An Lạc A', ' Phường 28',\n",
       "       ' Phường 29', ' P28', ' P.Tân Tạo A', ' Phường Bình Trị Đông A',\n",
       "       ' Phường Bình Hưng Hòa A', ' Phường Bình Hưng Hòa B',\n",
       "       ' Phường Bình Hưng Hòa', ' Phường Tây Thạnh',\n",
       "       ' Xã Trung Lập Thượng', ' Xã Tân Nhựt', ' Xã Vĩnh Lộc A',\n",
       "       ' Xã Tân Quý Tây', ' Xã Tân Kiên', ' Phường Tân Thới Hòa',\n",
       "       ' Xã Đa Phước', ' Xã Trung Lập Hạ', ' Xã Vĩnh Lộc B',\n",
       "       ' Xã Quy Đức', ' Xã Phong Phú', ' Xã Lê Minh Xuân',\n",
       "       ' Xã Phạm Văn Hai', ' Xã Bình Lợi', ' Xã Hưng Long',\n",
       "       ' Xã Bình Chánh', ' Phường Thạnh Mỹ Lợi', ' Phường Thảo Điền',\n",
       "       ' Phường Cát Lái', ' Xã Bình Hưng', ' Xã An Phú Tây',\n",
       "       ' Thị trấn Tân Túc', ' Phường Bình Trưng Đông',\n",
       "       ' Xã Tân Thông Hội', ' Xã Tân Thạnh Tây', ' Phường Bình An',\n",
       "       ' Thị trấn Củ Chi', ' Xã Phú Hòa Đông', ' Xã Tân An Hội',\n",
       "       ' Xã Phước Vĩnh An', ' Xã Phước Hiệp', ' Xã Tân Phú Trung',\n",
       "       ' Phường An Phú', ' Phường Bình Trưng Tây', ' Bình Khánh',\n",
       "       ' Phường Bình Khánh', ' Phường An Khánh', ' Xã Tân Thạnh Đông',\n",
       "       ' Phường Tân Thành', ' Phường Phú Thạnh', ' Phường Tam Phú',\n",
       "       ' Phường Tân Quý', ' Phường Linh Xuân', ' Phường Tam Bình',\n",
       "       ' Phường Hiệp Bình Phước', ' Phường Linh Trung', ' P.Linh Trung',\n",
       "       ' Phường Linh Chiểu', ' Phường Linh Đông', ' Phường Linh Tây',\n",
       "       ' Linh Tây', ' Phường Sơn Kỳ', ' Phường Phú Thọ Hòa',\n",
       "       ' Phường Phú Trung', ' Phường Hòa Thạnh', ' Phường Trường Thọ',\n",
       "       ' Phường Hiệp Tân', ' Phường Tân Sơn Nhì',\n",
       "       ' Phường Hiệp Bình Chánh', ' Phường Bình Thọ',\n",
       "       ' Phường Bình Chiểu', ' phường Bình Chểu', ' P.3', ' 4',\n",
       "       ' Xã Thới Tam Thôn', ' Phường Bà Điểm', ' Xã Đông Thạnh',\n",
       "       ' Xã Bà Điểm', ' ấp 1 Xã Đông Thạnh', ' Phường Hóc Môn',\n",
       "       ' Xã Nhị Bình', ' Xã Tân Hiệp', ' Xã Trung Chánh',\n",
       "       ' Xã Xuân Thới Thượng', ' Xã Tân Xuân', ' Xã Xuân Thới Đông',\n",
       "       ' Xã Xuân Thới Sơn', ' Xã Tân Thới Nhì', ' P.10'], dtype=object)"
      ]
     },
     "execution_count": 32,
     "metadata": {},
     "output_type": "execute_result"
    }
   ],
   "source": [
    "HCMHouseRent['ward'].unique()"
   ]
  },
  {
   "cell_type": "code",
   "execution_count": 33,
   "metadata": {},
   "outputs": [],
   "source": [
    "def replace_ward(a,b):\n",
    "    HCMHouseRent['ward'].replace(a,b,inplace=True)\n",
    "    \n",
    "# districts_error_value\n",
    "HCMHouseRent['ward'] = HCMHouseRent['ward'].apply(lambda x: ' '.join(x.split()))\n",
    "import re \n",
    "# HCMHouseRent['ward'] = HCMHouseRent['ward'].apply(lambda x: re.sub(r'P.', 'Phường', x))\n",
    "# if '6' (number) to add 'Phường' before\n",
    "# HCMHouseRent['ward'] = HCMHouseRent['ward'].apply(lambda x: re.sub(r'([0-9])', 'Phường', x))\n",
    "# districts_wrong_value = ['P.', 'phường']\n",
    "\n",
    "regex = re.compile(r'([Pp]\\.?)([0-9])')\n",
    "HCMHouseRent['ward'] = HCMHouseRent['ward'].apply(lambda x: regex.sub(r'Phường \\2', x))\n",
    "# if only number , 1 -> Phường 1\n",
    "regex = re.compile(r'([0-9])')\n",
    "HCMHouseRent['ward'] = HCMHouseRent['ward'].apply(lambda x: x.replace(x, 'Phường ' + x) if regex.match(x) else x)\n",
    "\n",
    "# ward 1\n",
    "replace_ward('Bến Nghé', 'Phường Bến Nghé')\n",
    "replace_ward('Cầu Ông Lãnh', 'Phường Cầu Ông Lãnh')\n",
    "replace_ward('Đa Kao', 'Phường Đa Kao')\n",
    "replace_ward('Nguyễn Thái Bình', 'Phường Đa Kao')\n",
    "\n",
    "# district 2\n",
    "replace_ward('Bình Khánh', 'Phường Bình Khánh')\n",
    "\n",
    "# district 7\n",
    "replace_ward('Tân Phú', 'Phường Tân Phú')\n",
    "\n",
    "# Hóc môn\n",
    "replace_ward('ấp 1 Xã Đông Thạnh', 'Xã Đông Thạnh')\n",
    "replace_ward('Phường Bà Điểm', 'Xã Đông Thạnh')"
   ]
  },
  {
   "cell_type": "code",
   "execution_count": 34,
   "metadata": {},
   "outputs": [
    {
     "name": "stdout",
     "output_type": "stream",
     "text": [
      "Quận Bình Tân: \n",
      "['Phường Tân Tạo' 'Phường Tân Tạo A' 'Tân Tạo A' 'Phường Bình Trị Đông B'\n",
      " 'Bình Trị Đông B' 'Phường Bình Trị Đông' 'Phường An Lạc'\n",
      " 'Phường An Lạc A' 'P.Tân Tạo A' 'Phường Bình Trị Đông A'\n",
      " 'Phường Bình Hưng Hòa A' 'Phường Bình Hưng Hòa B' 'Phường Bình Hưng Hòa']\n",
      "\n",
      "---------------------------------------------\n",
      "\n",
      "Quận 7: \n",
      "['Phường Tân Thuận Đông' 'Phường Tân Quy' 'Phường Tân Phú'\n",
      " 'Phường Tân Thuận Tây' 'Phường Phú Mỹ' 'Phường Bình Thuận'\n",
      " 'Phường Tân Hưng' 'Phường Tân Phong' 'Phường Tân Kiểng'\n",
      " 'Phường Phú Thuận']\n",
      "\n",
      "---------------------------------------------\n",
      "\n",
      "Quận Phú Nhuận: \n",
      "['Phường 14' 'Phường 15' 'Phường 17' 'Phường 8' 'Phường 11' 'Phường 10'\n",
      " 'Phường 9' 'Phường 7' 'Phường 12' 'Phường 13' 'Phường 6' 'Phường 1'\n",
      " 'Phường 3' 'Phường 4' 'Phường 5' 'Phường 2']\n",
      "\n",
      "---------------------------------------------\n",
      "\n",
      "Quận 3: \n",
      "['Phường 1' 'Phường 13' 'Phường 9' 'Phường 8' 'Phường 2' 'Phường 7'\n",
      " 'Phường 10' 'Phường 4' 'Phường 5' 'Phường 6' 'Phường 3' 'Phường 12'\n",
      " 'Phường 14' 'Phường 11']\n",
      "\n",
      "---------------------------------------------\n",
      "\n",
      "Quận 8: \n",
      "['Phường 16' 'Phường 15' 'phường 13' 'Phường 11' 'Phường 12' 'Phường 9'\n",
      " 'Phường 6' 'Phường 5' 'Phường 7' 'Phường 8' 'Phường 10' 'Phường 13'\n",
      " 'Phường 14' 'Phường 4' 'Phường 2' 'Phường 1' 'Phường 3']\n",
      "\n",
      "---------------------------------------------\n",
      "\n",
      "Quận 6: \n",
      "['Phường 1' 'Phường 13' 'Phường 14' 'Phường 11' 'Phường 6' 'Phường 8'\n",
      " 'Phường 4' 'Phường 5' 'Phường 2' 'Phường 7' 'Phường 3' 'Phường 12'\n",
      " 'Phường 10' 'Phường 9']\n",
      "\n",
      "---------------------------------------------\n",
      "\n",
      "Quận 4: \n",
      "['Phường 18' 'Phường 12' 'Phường 8' 'Phường 4' 'Phường 6' 'Phường 3'\n",
      " 'Phường 1' 'Phường 2' 'Phường 5' 'Phường 14' 'Phường 13' 'Phường 10'\n",
      " 'Phường 9' 'Phường 15' 'Phường 16']\n",
      "\n",
      "---------------------------------------------\n",
      "\n",
      "Quận 10: \n",
      "['Phường 15' 'Phường 9' 'Phường 8' 'Phường 14' 'Phường 4' 'Phường 13'\n",
      " 'Phường 10' 'Phường 11' 'Phường 12' 'Phường 2' 'Phường 1' 'phường 2'\n",
      " 'Phường 7' 'Phường 3' 'Phường 6' 'Phường 5']\n",
      "\n",
      "---------------------------------------------\n",
      "\n",
      "Huyện Nhà Bè: \n",
      "['Xã Phước Lộc' 'Xã Phước Kiển' 'Xã Long Thới' 'Thị trấn Nhà Bè'\n",
      " 'Phường Hiệp Phước' 'Xã Phú Xuân' 'Xã Nhơn Đức']\n",
      "\n",
      "---------------------------------------------\n",
      "\n",
      "Quận 11: \n",
      "['Phường 15' 'Phường 16' 'Phường 1' 'Phường 12' 'Phường 2' 'Phường 5'\n",
      " 'Phường 4' 'Phường 3' 'Phường 7' 'Phường 6' 'Phường 8' 'Phường 11'\n",
      " 'Phường 9' 'Phường 10' 'Phường 13' 'Phường 14']\n",
      "\n",
      "---------------------------------------------\n",
      "\n",
      "Quận 5: \n",
      "['Phường 14' 'Phường 11' 'Phường 9' 'Phường 8' 'Phường 12' 'Phường 6'\n",
      " 'Phường 10' 'Phường 13' 'Phường 7' 'Phường 15' 'Phường 5' 'Phường 1'\n",
      " 'Phường 2' 'Phường 4' 'Phường 3']\n",
      "\n",
      "---------------------------------------------\n",
      "\n",
      "Quận Gò Vấp: \n",
      "['Phường 16' 'Phường 9' 'Phường 6' 'Phường 15' 'Phường 3' 'Phường 5'\n",
      " 'Phường 7' 'Phường 4' 'Phường 14' 'Phường 8' 'Phường 11' 'Phường 10'\n",
      " 'Phường 13' 'phường 13' 'Phường 12' 'Phường 17' 'Phường 1']\n",
      "\n",
      "---------------------------------------------\n",
      "\n",
      "Quận 12: \n",
      "['Phường Đông Hưng Thuận' 'Phường Thạnh Lộc' 'Phường An Phú Đông'\n",
      " 'Phường Hiệp Thành' 'Phường Thạnh Xuân' 'Phường Tân Thới Nhất'\n",
      " 'Phường Tân Chánh Hiệp' 'Phường Tân Hưng Thuận' 'Phường Tân Thới Hiệp'\n",
      " 'Phường Trung Mỹ Tây' 'Phường Thới An']\n",
      "\n",
      "---------------------------------------------\n",
      "\n",
      "Quận 1: \n",
      "['Phường Nguyễn Thái Bình' 'Phường Đa Kao' 'Phường Cô Giang'\n",
      " 'Phường Nguyễn Cư Trinh' 'Phường Phạm Ngũ Lão' 'Phường Tân Định'\n",
      " 'Phường Cầu Ông Lãnh' 'Phường Bến Thành' 'Phường Cầu Kho'\n",
      " 'Phường Bến Nghé']\n",
      "\n",
      "---------------------------------------------\n",
      "\n",
      "Quận 9: \n",
      "['Phường Phước Long A' 'Phường Long Bình' 'Phường Long Trường'\n",
      " 'Phường Hiệp Phú' 'Phường Tăng Nhơn Phú B' 'Phường Long Thạnh Mỹ'\n",
      " 'Phường Phú Hữu' 'Phường Long Phước' 'Phường Tăng Nhơn Phú A'\n",
      " 'Phường Phước Long B' 'Phường Phước Bình' 'Phường Tân Phú'\n",
      " 'Phường Trường Thạnh']\n",
      "\n",
      "---------------------------------------------\n",
      "\n",
      "Quận Bình Thạnh: \n",
      "['Phường 26' 'Phường 19' 'Phường 17' 'Phường 13' 'Phường 12' 'Phường 11'\n",
      " 'Phường 14' 'Phường 15' 'Phường 25' 'Phường 21' 'Phường 22' 'Phường 24'\n",
      " 'Phường 27' 'Phường 28' 'Phường 29' 'Phường 7' 'Phường 3' 'Phường 1'\n",
      " 'Phường 2' 'phường 2' 'Phường 6' 'Phường 5']\n",
      "\n",
      "---------------------------------------------\n",
      "\n",
      "Quận Tân Bình: \n",
      "['Phường 10' 'Phường 4' 'Phường 13' 'Phường 3' 'Phường 8' 'Phường 6'\n",
      " 'Phường 9' 'Phường 7' 'Phường 5' 'Phường 14' 'Phường 12' 'Phường 15'\n",
      " 'Phường 11' 'Phường 1' 'Phường 2']\n",
      "\n",
      "---------------------------------------------\n",
      "\n",
      "Quận Tân Phú: \n",
      "['Phường Tây Thạnh' 'Phường Tân Thới Hòa' 'Phường Tân Thành'\n",
      " 'Phường Phú Thạnh' 'Phường Tân Quý' 'Phường Sơn Kỳ' 'Phường Phú Thọ Hòa'\n",
      " 'Phường Phú Trung' 'Phường Hòa Thạnh' 'Phường Hiệp Tân'\n",
      " 'Phường Tân Sơn Nhì']\n",
      "\n",
      "---------------------------------------------\n",
      "\n",
      "Huyện Củ Chi: \n",
      "['Xã Trung Lập Thượng' 'Xã Trung Lập Hạ' 'Xã Tân Thông Hội'\n",
      " 'Xã Tân Thạnh Tây' 'Thị trấn Củ Chi' 'Xã Phú Hòa Đông' 'Xã Tân An Hội'\n",
      " 'Xã Phước Vĩnh An' 'Xã Phước Hiệp' 'Xã Tân Phú Trung' 'Xã Tân Thạnh Đông']\n",
      "\n",
      "---------------------------------------------\n",
      "\n",
      "Huyện Bình Chánh: \n",
      "['Xã Tân Nhựt' 'Xã Vĩnh Lộc A' 'Xã Tân Quý Tây' 'Xã Tân Kiên'\n",
      " 'Xã Đa Phước' 'Xã Vĩnh Lộc B' 'Xã Quy Đức' 'Xã Phong Phú'\n",
      " 'Xã Lê Minh Xuân' 'Xã Phạm Văn Hai' 'Xã Bình Lợi' 'Xã Hưng Long'\n",
      " 'Xã Bình Chánh' 'Xã Bình Hưng' 'Xã An Phú Tây' 'Thị trấn Tân Túc']\n",
      "\n",
      "---------------------------------------------\n",
      "\n",
      "Quận 2: \n",
      "['Phường Thạnh Mỹ Lợi' 'Phường Thảo Điền' 'Phường Cát Lái'\n",
      " 'Phường Bình Trưng Đông' 'Phường Bình An' 'Phường An Phú'\n",
      " 'Phường Bình Trưng Tây' 'Phường Bình Khánh' 'Phường An Khánh']\n",
      "\n",
      "---------------------------------------------\n",
      "\n",
      "Quận Thủ Đức: \n",
      "['Phường Tam Phú' 'Phường Linh Xuân' 'Phường Tam Bình'\n",
      " 'Phường Hiệp Bình Phước' 'Phường Linh Trung' 'P.Linh Trung'\n",
      " 'Phường Linh Chiểu' 'Phường Linh Đông' 'Phường Linh Tây' 'Linh Tây'\n",
      " 'Phường Trường Thọ' 'Phường Hiệp Bình Chánh' 'Phường Bình Thọ'\n",
      " 'Phường Bình Chiểu' 'phường Bình Chểu']\n",
      "\n",
      "---------------------------------------------\n",
      "\n",
      "Huyện Hóc Môn: \n",
      "['Xã Thới Tam Thôn' 'Xã Đông Thạnh' 'Xã Bà Điểm' 'Phường Hóc Môn'\n",
      " 'Xã Nhị Bình' 'Xã Tân Hiệp' 'Xã Trung Chánh' 'Xã Xuân Thới Thượng'\n",
      " 'Xã Tân Xuân' 'Xã Xuân Thới Đông' 'Xã Xuân Thới Sơn' 'Xã Tân Thới Nhì']\n",
      "\n",
      "---------------------------------------------\n",
      "\n"
     ]
    }
   ],
   "source": [
    "# loop all districts\n",
    "districts_of_HCM_current = HCMHouseRent['district'].unique()\n",
    "for districts_of_HCM_current_item in districts_of_HCM_current:\n",
    "    districts_i = HCMHouseRent.groupby('district')['ward'].unique().reset_index()\n",
    "    print(districts_of_HCM_current_item + ': ')\n",
    "    print(districts_i[districts_i['district'] == districts_of_HCM_current_item].values[0][1])\n",
    "    print('\\n---------------------------------------------\\n')"
   ]
  },
  {
   "attachments": {},
   "cell_type": "markdown",
   "metadata": {},
   "source": [
    "> I will delete the row that has price < 500k and area is 0 m2"
   ]
  },
  {
   "cell_type": "code",
   "execution_count": 35,
   "metadata": {},
   "outputs": [
    {
     "name": "stdout",
     "output_type": "stream",
     "text": [
      "(0, 7)\n",
      "(0, 7)\n",
      "(0, 7)\n"
     ]
    }
   ],
   "source": [
    "# drop price < 500000\n",
    "HCMHouseRent.drop(HCMHouseRent[HCMHouseRent['price'] < 500000].index, inplace=True)\n",
    "print(HCMHouseRent[HCMHouseRent['price'] < 500000].shape)\n",
    "\n",
    "\n",
    "# drop acreage = 0\n",
    "HCMHouseRent.drop(HCMHouseRent[HCMHouseRent['acreage'] == 0].index, inplace=True)\n",
    "print(HCMHouseRent[HCMHouseRent['acreage'] == 0].shape)\n",
    "\n",
    "# drop acreage < 5\n",
    "HCMHouseRent.drop(HCMHouseRent[HCMHouseRent['acreage'] < 5].index, inplace=True)\n",
    "print(HCMHouseRent[HCMHouseRent['acreage'] < 5].shape)\n"
   ]
  },
  {
   "cell_type": "code",
   "execution_count": 36,
   "metadata": {},
   "outputs": [
    {
     "data": {
      "text/plain": [
       "(8877, 7)"
      ]
     },
     "execution_count": 36,
     "metadata": {},
     "output_type": "execute_result"
    }
   ],
   "source": [
    "HCMHouseRent.shape"
   ]
  },
  {
   "cell_type": "code",
   "execution_count": 37,
   "metadata": {},
   "outputs": [
    {
     "data": {
      "text/plain": [
       "150000000"
      ]
     },
     "execution_count": 37,
     "metadata": {},
     "output_type": "execute_result"
    }
   ],
   "source": [
    "# add column id \n",
    "HCMHouseRent.insert(0, 'id', range(0, 0 + len(HCMHouseRent)))\n",
    "HCMHouseRent['price'].max()"
   ]
  },
  {
   "cell_type": "code",
   "execution_count": 38,
   "metadata": {},
   "outputs": [],
   "source": [
    "HCMHouseRent.to_csv('../data/HCMHouseRentPreprocessing.csv', index=False)"
   ]
  }
 ],
 "metadata": {
  "kernelspec": {
   "display_name": "DataScience",
   "language": "python",
   "name": "python3"
  },
  "language_info": {
   "codemirror_mode": {
    "name": "ipython",
    "version": 3
   },
   "file_extension": ".py",
   "mimetype": "text/x-python",
   "name": "python",
   "nbconvert_exporter": "python",
   "pygments_lexer": "ipython3",
   "version": "3.8.8"
  },
  "orig_nbformat": 4,
  "vscode": {
   "interpreter": {
    "hash": "da5c88a7b415d3aa4fc851a4158d37c895b2b016e8b5a5cb2326d03829d70c8b"
   }
  }
 },
 "nbformat": 4,
 "nbformat_minor": 2
}
