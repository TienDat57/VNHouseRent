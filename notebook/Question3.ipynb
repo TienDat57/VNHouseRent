{
 "cells": [
  {
   "cell_type": "markdown",
   "metadata": {},
   "source": [
    "### <center>📜 **<font color=\"pink\">Question 3:</font> The price of rented houses over the years. Why is there such an increase and decrease every year? Which month is the best time to rent?** </center>"
   ]
  },
  {
   "cell_type": "markdown",
   "metadata": {},
   "source": [
    "#### 📙**Import the necessary libraries**"
   ]
  },
  {
   "cell_type": "code",
   "execution_count": 2,
   "metadata": {},
   "outputs": [],
   "source": [
    "import numpy as np\n",
    "import pandas as pd\n",
    "import matplotlib.pyplot as plt\n"
   ]
  },
  {
   "attachments": {},
   "cell_type": "markdown",
   "metadata": {},
   "source": [
    "### ✨ **1. Get data by year**"
   ]
  },
  {
   "cell_type": "code",
   "execution_count": 3,
   "metadata": {},
   "outputs": [
    {
     "data": {
      "text/html": [
       "<div>\n",
       "<style scoped>\n",
       "    .dataframe tbody tr th:only-of-type {\n",
       "        vertical-align: middle;\n",
       "    }\n",
       "\n",
       "    .dataframe tbody tr th {\n",
       "        vertical-align: top;\n",
       "    }\n",
       "\n",
       "    .dataframe thead th {\n",
       "        text-align: right;\n",
       "    }\n",
       "</style>\n",
       "<table border=\"1\" class=\"dataframe\">\n",
       "  <thead>\n",
       "    <tr style=\"text-align: right;\">\n",
       "      <th></th>\n",
       "      <th>title</th>\n",
       "      <th>price</th>\n",
       "      <th>published</th>\n",
       "      <th>acreage</th>\n",
       "      <th>street</th>\n",
       "      <th>ward</th>\n",
       "      <th>district</th>\n",
       "    </tr>\n",
       "    <tr>\n",
       "      <th>id</th>\n",
       "      <th></th>\n",
       "      <th></th>\n",
       "      <th></th>\n",
       "      <th></th>\n",
       "      <th></th>\n",
       "      <th></th>\n",
       "      <th></th>\n",
       "    </tr>\n",
       "  </thead>\n",
       "  <tbody>\n",
       "    <tr>\n",
       "      <th>0</th>\n",
       "      <td>Cho thuê nhà trọ mới sạch đẹp tại Lê Đình Cẩn,...</td>\n",
       "      <td>2200000</td>\n",
       "      <td>2022-05-16</td>\n",
       "      <td>20.0</td>\n",
       "      <td>Lê Đình Cẩn</td>\n",
       "      <td>Phường Tân Tạo</td>\n",
       "      <td>Quận Bình Tân</td>\n",
       "    </tr>\n",
       "    <tr>\n",
       "      <th>1</th>\n",
       "      <td>Cho thuê phòng trọ giá rẻ ở mặt tiền hẻm lớn Đ...</td>\n",
       "      <td>2500000</td>\n",
       "      <td>2022-04-20</td>\n",
       "      <td>20.0</td>\n",
       "      <td>487/35/25 Đường Huỳnh Tấn Phát</td>\n",
       "      <td>Phường Tân Thuận Đông</td>\n",
       "      <td>Quận 7</td>\n",
       "    </tr>\n",
       "    <tr>\n",
       "      <th>2</th>\n",
       "      <td>Cho thuê phòng trọ kdc Nam Long-Trần Trọng Cun...</td>\n",
       "      <td>3500000</td>\n",
       "      <td>2022-05-10</td>\n",
       "      <td>30.0</td>\n",
       "      <td>Đường 10</td>\n",
       "      <td>Phường Tân Thuận Đông</td>\n",
       "      <td>Quận 7</td>\n",
       "    </tr>\n",
       "    <tr>\n",
       "      <th>3</th>\n",
       "      <td>Phòng trọ giá rẻ ngay cổng khu chế xuất Tân Th...</td>\n",
       "      <td>1500000</td>\n",
       "      <td>2022-05-05</td>\n",
       "      <td>30.0</td>\n",
       "      <td>283/15 Huỳnh Tấn Phát</td>\n",
       "      <td>Phường Tân Thuận Đông</td>\n",
       "      <td>Quận 7</td>\n",
       "    </tr>\n",
       "    <tr>\n",
       "      <th>4</th>\n",
       "      <td>Cho thuê phòng có gác, không gác, tolet riêng ...</td>\n",
       "      <td>3500000</td>\n",
       "      <td>2022-01-05</td>\n",
       "      <td>18.0</td>\n",
       "      <td>Lê Văn Sỹ</td>\n",
       "      <td>Phường 14</td>\n",
       "      <td>Quận Phú Nhuận</td>\n",
       "    </tr>\n",
       "    <tr>\n",
       "      <th>...</th>\n",
       "      <td>...</td>\n",
       "      <td>...</td>\n",
       "      <td>...</td>\n",
       "      <td>...</td>\n",
       "      <td>...</td>\n",
       "      <td>...</td>\n",
       "      <td>...</td>\n",
       "    </tr>\n",
       "    <tr>\n",
       "      <th>8872</th>\n",
       "      <td>Cho thuê phòng trọ gần trung tâm quận 11</td>\n",
       "      <td>2200000</td>\n",
       "      <td>2020-10-30</td>\n",
       "      <td>14.0</td>\n",
       "      <td>102/9/11a Đường Bình Thới</td>\n",
       "      <td>Phường 14</td>\n",
       "      <td>Quận 11</td>\n",
       "    </tr>\n",
       "    <tr>\n",
       "      <th>8873</th>\n",
       "      <td>Cho thuê phòng hoặc tầng 1 và 2 nhà mặt tiền 1...</td>\n",
       "      <td>2500000</td>\n",
       "      <td>2020-11-23</td>\n",
       "      <td>12.0</td>\n",
       "      <td>177 Đường Tôn Thất Hiệp</td>\n",
       "      <td>Phường 12</td>\n",
       "      <td>Quận 11</td>\n",
       "    </tr>\n",
       "    <tr>\n",
       "      <th>8874</th>\n",
       "      <td>Phòng FULL NOI THAT THOÁNG ĐẸP NHƯ HÌNH GẦN LÊ...</td>\n",
       "      <td>3500000</td>\n",
       "      <td>2022-07-28</td>\n",
       "      <td>20.0</td>\n",
       "      <td>212 Đường Lò Siêu</td>\n",
       "      <td>Phường 12</td>\n",
       "      <td>Quận 11</td>\n",
       "    </tr>\n",
       "    <tr>\n",
       "      <th>8875</th>\n",
       "      <td>CHÍNH CHỦ CHO THUÊ CĂN HỘ MINI TẠI TRUNG TÂM Q11</td>\n",
       "      <td>5000000</td>\n",
       "      <td>2020-11-25</td>\n",
       "      <td>30.0</td>\n",
       "      <td>127/17 Đường Âu Cơ</td>\n",
       "      <td>Phường 14</td>\n",
       "      <td>Quận 11</td>\n",
       "    </tr>\n",
       "    <tr>\n",
       "      <th>8876</th>\n",
       "      <td>Nhượng lại phòng gần lotte 3.2 lê đại hành</td>\n",
       "      <td>3500000</td>\n",
       "      <td>2021-03-08</td>\n",
       "      <td>12.0</td>\n",
       "      <td>Đường Tôn Thất Hiệp</td>\n",
       "      <td>Phường 12</td>\n",
       "      <td>Quận 11</td>\n",
       "    </tr>\n",
       "  </tbody>\n",
       "</table>\n",
       "<p>8877 rows × 7 columns</p>\n",
       "</div>"
      ],
      "text/plain": [
       "                                                  title    price  published  \\\n",
       "id                                                                            \n",
       "0     Cho thuê nhà trọ mới sạch đẹp tại Lê Đình Cẩn,...  2200000 2022-05-16   \n",
       "1     Cho thuê phòng trọ giá rẻ ở mặt tiền hẻm lớn Đ...  2500000 2022-04-20   \n",
       "2     Cho thuê phòng trọ kdc Nam Long-Trần Trọng Cun...  3500000 2022-05-10   \n",
       "3     Phòng trọ giá rẻ ngay cổng khu chế xuất Tân Th...  1500000 2022-05-05   \n",
       "4     Cho thuê phòng có gác, không gác, tolet riêng ...  3500000 2022-01-05   \n",
       "...                                                 ...      ...        ...   \n",
       "8872           Cho thuê phòng trọ gần trung tâm quận 11  2200000 2020-10-30   \n",
       "8873  Cho thuê phòng hoặc tầng 1 và 2 nhà mặt tiền 1...  2500000 2020-11-23   \n",
       "8874  Phòng FULL NOI THAT THOÁNG ĐẸP NHƯ HÌNH GẦN LÊ...  3500000 2022-07-28   \n",
       "8875   CHÍNH CHỦ CHO THUÊ CĂN HỘ MINI TẠI TRUNG TÂM Q11  5000000 2020-11-25   \n",
       "8876         Nhượng lại phòng gần lotte 3.2 lê đại hành  3500000 2021-03-08   \n",
       "\n",
       "      acreage                          street                   ward  \\\n",
       "id                                                                     \n",
       "0        20.0                     Lê Đình Cẩn         Phường Tân Tạo   \n",
       "1        20.0  487/35/25 Đường Huỳnh Tấn Phát  Phường Tân Thuận Đông   \n",
       "2        30.0                        Đường 10  Phường Tân Thuận Đông   \n",
       "3        30.0           283/15 Huỳnh Tấn Phát  Phường Tân Thuận Đông   \n",
       "4        18.0                       Lê Văn Sỹ              Phường 14   \n",
       "...       ...                             ...                    ...   \n",
       "8872     14.0       102/9/11a Đường Bình Thới              Phường 14   \n",
       "8873     12.0         177 Đường Tôn Thất Hiệp              Phường 12   \n",
       "8874     20.0               212 Đường Lò Siêu              Phường 12   \n",
       "8875     30.0              127/17 Đường Âu Cơ              Phường 14   \n",
       "8876     12.0             Đường Tôn Thất Hiệp              Phường 12   \n",
       "\n",
       "            district  \n",
       "id                    \n",
       "0      Quận Bình Tân  \n",
       "1             Quận 7  \n",
       "2             Quận 7  \n",
       "3             Quận 7  \n",
       "4     Quận Phú Nhuận  \n",
       "...              ...  \n",
       "8872         Quận 11  \n",
       "8873         Quận 11  \n",
       "8874         Quận 11  \n",
       "8875         Quận 11  \n",
       "8876         Quận 11  \n",
       "\n",
       "[8877 rows x 7 columns]"
      ]
     },
     "execution_count": 3,
     "metadata": {},
     "output_type": "execute_result"
    }
   ],
   "source": [
    "HCMHouseRent = pd.read_csv('../data/HCMHouseRentPreprocessing.csv')\n",
    "HCMHouseRent['published'] = pd.to_datetime(HCMHouseRent['published'])\n",
    "HCMHouseRent.set_index('id')"
   ]
  },
  {
   "attachments": {},
   "cell_type": "markdown",
   "metadata": {},
   "source": [
    "> Get mean price per year"
   ]
  },
  {
   "cell_type": "code",
   "execution_count": 4,
   "metadata": {},
   "outputs": [
    {
     "data": {
      "text/plain": [
       "{'published': published\n",
       " 2015    5.016667e+06\n",
       " 2016    2.843077e+06\n",
       " 2017    4.166133e+06\n",
       " 2018    3.155409e+06\n",
       " 2019    3.570022e+06\n",
       " 2020    3.497327e+06\n",
       " 2021    3.400468e+06\n",
       " 2022    3.455045e+06\n",
       " Name: price, dtype: float64}"
      ]
     },
     "execution_count": 4,
     "metadata": {},
     "output_type": "execute_result"
    }
   ],
   "source": [
    "df = {}\n",
    "df['published'] = HCMHouseRent.groupby(HCMHouseRent['published'].dt.year, axis=0)['price'].mean()\n",
    "df"
   ]
  },
  {
   "cell_type": "markdown",
   "metadata": {},
   "source": [
    "### 🎖 **2. Visualization by the price of each year.**"
   ]
  },
  {
   "cell_type": "code",
   "execution_count": 5,
   "metadata": {},
   "outputs": [
    {
     "data": {
      "image/png": "[encoded data removed]",
      "text/plain": [
       "<Figure size 1000x500 with 1 Axes>"
      ]
     },
     "metadata": {},
     "output_type": "display_data"
    }
   ],
   "source": [
    "plt.figure(figsize=(10, 5))\n",
    "plt.plot(df['published'].index, df['published'].values)\n",
    "plt.xlabel('Năm')\n",
    "plt.ylabel('Trung bình tiền trọ')\n",
    "plt.title('Giá tiền trọ theo năm')\n",
    "plt.show()"
   ]
  },
  {
   "cell_type": "markdown",
   "metadata": {},
   "source": [
    "> Within 5 years from 2018-2022, the rental price is stable year by year, it does not go up or down, then the market is gradually stabilizing and has a specific price."
   ]
  },
  {
   "cell_type": "markdown",
   "metadata": {},
   "source": [
    "&#9889; <font color=\"yellow\"><b>What are benefits of finding the answer? </b></font>\n",
    ">- Evaluate the price of accommodation every year\n",
    ">- We can know  the rental rates fluctuated in HCM City\n",
    ">- As we can see, during the years (2018 - 2020) of the covid epidemic, the price of accommodation has decreased significantly\n",
    "\n"
   ]
  },
  {
   "attachments": {},
   "cell_type": "markdown",
   "metadata": {},
   "source": [
    "### 🎖 3. Which month is the best time to rent ?"
   ]
  },
  {
   "attachments": {},
   "cell_type": "markdown",
   "metadata": {},
   "source": [
    "> Group by data by month"
   ]
  },
  {
   "cell_type": "code",
   "execution_count": 9,
   "metadata": {},
   "outputs": [],
   "source": [
    "grouped = HCMHouseRent.groupby(HCMHouseRent['published'].dt.month)"
   ]
  },
  {
   "cell_type": "code",
   "execution_count": 10,
   "metadata": {},
   "outputs": [
    {
     "data": {
      "text/html": [
       "<div>\n",
       "<style scoped>\n",
       "    .dataframe tbody tr th:only-of-type {\n",
       "        vertical-align: middle;\n",
       "    }\n",
       "\n",
       "    .dataframe tbody tr th {\n",
       "        vertical-align: top;\n",
       "    }\n",
       "\n",
       "    .dataframe thead th {\n",
       "        text-align: right;\n",
       "    }\n",
       "</style>\n",
       "<table border=\"1\" class=\"dataframe\">\n",
       "  <thead>\n",
       "    <tr style=\"text-align: right;\">\n",
       "      <th></th>\n",
       "      <th>count</th>\n",
       "      <th>mean</th>\n",
       "      <th>std</th>\n",
       "      <th>min</th>\n",
       "      <th>25%</th>\n",
       "      <th>50%</th>\n",
       "      <th>75%</th>\n",
       "      <th>max</th>\n",
       "    </tr>\n",
       "    <tr>\n",
       "      <th>published</th>\n",
       "      <th></th>\n",
       "      <th></th>\n",
       "      <th></th>\n",
       "      <th></th>\n",
       "      <th></th>\n",
       "      <th></th>\n",
       "      <th></th>\n",
       "      <th></th>\n",
       "    </tr>\n",
       "  </thead>\n",
       "  <tbody>\n",
       "    <tr>\n",
       "      <th>1</th>\n",
       "      <td>407.0</td>\n",
       "      <td>3.213514e+06</td>\n",
       "      <td>1.454940e+06</td>\n",
       "      <td>500000.0</td>\n",
       "      <td>2100000.0</td>\n",
       "      <td>3000000.0</td>\n",
       "      <td>4000000.0</td>\n",
       "      <td>10000000.0</td>\n",
       "    </tr>\n",
       "    <tr>\n",
       "      <th>2</th>\n",
       "      <td>545.0</td>\n",
       "      <td>3.153209e+06</td>\n",
       "      <td>1.406453e+06</td>\n",
       "      <td>500000.0</td>\n",
       "      <td>2000000.0</td>\n",
       "      <td>3000000.0</td>\n",
       "      <td>4000000.0</td>\n",
       "      <td>11000000.0</td>\n",
       "    </tr>\n",
       "    <tr>\n",
       "      <th>3</th>\n",
       "      <td>733.0</td>\n",
       "      <td>3.489697e+06</td>\n",
       "      <td>3.668383e+06</td>\n",
       "      <td>500000.0</td>\n",
       "      <td>2300000.0</td>\n",
       "      <td>3300000.0</td>\n",
       "      <td>4200000.0</td>\n",
       "      <td>95000000.0</td>\n",
       "    </tr>\n",
       "    <tr>\n",
       "      <th>4</th>\n",
       "      <td>860.0</td>\n",
       "      <td>3.426665e+06</td>\n",
       "      <td>1.466371e+06</td>\n",
       "      <td>550000.0</td>\n",
       "      <td>2475000.0</td>\n",
       "      <td>3500000.0</td>\n",
       "      <td>4300000.0</td>\n",
       "      <td>12000000.0</td>\n",
       "    </tr>\n",
       "    <tr>\n",
       "      <th>5</th>\n",
       "      <td>1185.0</td>\n",
       "      <td>3.588216e+06</td>\n",
       "      <td>5.516810e+06</td>\n",
       "      <td>500000.0</td>\n",
       "      <td>2300000.0</td>\n",
       "      <td>3200000.0</td>\n",
       "      <td>4000000.0</td>\n",
       "      <td>150000000.0</td>\n",
       "    </tr>\n",
       "    <tr>\n",
       "      <th>6</th>\n",
       "      <td>1097.0</td>\n",
       "      <td>3.494400e+06</td>\n",
       "      <td>2.014107e+06</td>\n",
       "      <td>500000.0</td>\n",
       "      <td>2500000.0</td>\n",
       "      <td>3400000.0</td>\n",
       "      <td>4200000.0</td>\n",
       "      <td>42000000.0</td>\n",
       "    </tr>\n",
       "    <tr>\n",
       "      <th>7</th>\n",
       "      <td>1333.0</td>\n",
       "      <td>3.515457e+06</td>\n",
       "      <td>3.012262e+06</td>\n",
       "      <td>500000.0</td>\n",
       "      <td>2500000.0</td>\n",
       "      <td>3300000.0</td>\n",
       "      <td>4200000.0</td>\n",
       "      <td>100000000.0</td>\n",
       "    </tr>\n",
       "    <tr>\n",
       "      <th>8</th>\n",
       "      <td>553.0</td>\n",
       "      <td>3.384566e+06</td>\n",
       "      <td>1.581416e+06</td>\n",
       "      <td>500000.0</td>\n",
       "      <td>2300000.0</td>\n",
       "      <td>3200000.0</td>\n",
       "      <td>4300000.0</td>\n",
       "      <td>12000000.0</td>\n",
       "    </tr>\n",
       "    <tr>\n",
       "      <th>9</th>\n",
       "      <td>272.0</td>\n",
       "      <td>4.225695e+06</td>\n",
       "      <td>1.025972e+07</td>\n",
       "      <td>640000.0</td>\n",
       "      <td>2000000.0</td>\n",
       "      <td>3000000.0</td>\n",
       "      <td>4000000.0</td>\n",
       "      <td>100000000.0</td>\n",
       "    </tr>\n",
       "    <tr>\n",
       "      <th>10</th>\n",
       "      <td>546.0</td>\n",
       "      <td>3.177526e+06</td>\n",
       "      <td>1.426608e+06</td>\n",
       "      <td>500000.0</td>\n",
       "      <td>2000000.0</td>\n",
       "      <td>3000000.0</td>\n",
       "      <td>4000000.0</td>\n",
       "      <td>12000000.0</td>\n",
       "    </tr>\n",
       "    <tr>\n",
       "      <th>11</th>\n",
       "      <td>654.0</td>\n",
       "      <td>3.485795e+06</td>\n",
       "      <td>1.958110e+06</td>\n",
       "      <td>550000.0</td>\n",
       "      <td>2500000.0</td>\n",
       "      <td>3200000.0</td>\n",
       "      <td>4500000.0</td>\n",
       "      <td>26000000.0</td>\n",
       "    </tr>\n",
       "    <tr>\n",
       "      <th>12</th>\n",
       "      <td>692.0</td>\n",
       "      <td>3.344368e+06</td>\n",
       "      <td>1.535644e+06</td>\n",
       "      <td>600000.0</td>\n",
       "      <td>2300000.0</td>\n",
       "      <td>3000000.0</td>\n",
       "      <td>4000000.0</td>\n",
       "      <td>13000000.0</td>\n",
       "    </tr>\n",
       "  </tbody>\n",
       "</table>\n",
       "</div>"
      ],
      "text/plain": [
       "            count          mean           std       min        25%        50%  \\\n",
       "published                                                                       \n",
       "1           407.0  3.213514e+06  1.454940e+06  500000.0  2100000.0  3000000.0   \n",
       "2           545.0  3.153209e+06  1.406453e+06  500000.0  2000000.0  3000000.0   \n",
       "3           733.0  3.489697e+06  3.668383e+06  500000.0  2300000.0  3300000.0   \n",
       "4           860.0  3.426665e+06  1.466371e+06  550000.0  2475000.0  3500000.0   \n",
       "5          1185.0  3.588216e+06  5.516810e+06  500000.0  2300000.0  3200000.0   \n",
       "6          1097.0  3.494400e+06  2.014107e+06  500000.0  2500000.0  3400000.0   \n",
       "7          1333.0  3.515457e+06  3.012262e+06  500000.0  2500000.0  3300000.0   \n",
       "8           553.0  3.384566e+06  1.581416e+06  500000.0  2300000.0  3200000.0   \n",
       "9           272.0  4.225695e+06  1.025972e+07  640000.0  2000000.0  3000000.0   \n",
       "10          546.0  3.177526e+06  1.426608e+06  500000.0  2000000.0  3000000.0   \n",
       "11          654.0  3.485795e+06  1.958110e+06  550000.0  2500000.0  3200000.0   \n",
       "12          692.0  3.344368e+06  1.535644e+06  600000.0  2300000.0  3000000.0   \n",
       "\n",
       "                 75%          max  \n",
       "published                          \n",
       "1          4000000.0   10000000.0  \n",
       "2          4000000.0   11000000.0  \n",
       "3          4200000.0   95000000.0  \n",
       "4          4300000.0   12000000.0  \n",
       "5          4000000.0  150000000.0  \n",
       "6          4200000.0   42000000.0  \n",
       "7          4200000.0  100000000.0  \n",
       "8          4300000.0   12000000.0  \n",
       "9          4000000.0  100000000.0  \n",
       "10         4000000.0   12000000.0  \n",
       "11         4500000.0   26000000.0  \n",
       "12         4000000.0   13000000.0  "
      ]
     },
     "execution_count": 10,
     "metadata": {},
     "output_type": "execute_result"
    }
   ],
   "source": [
    "grouped['price'].describe()"
   ]
  },
  {
   "attachments": {},
   "cell_type": "markdown",
   "metadata": {},
   "source": [
    "> Draw boxplot to check which has an addorable price"
   ]
  },
  {
   "cell_type": "code",
   "execution_count": 8,
   "metadata": {
    "scrolled": false
   },
   "outputs": [
    {
     "data": {
      "text/plain": [
       "<AxesSubplot: >"
      ]
     },
     "execution_count": 8,
     "metadata": {},
     "output_type": "execute_result"
    },
    {
     "data": {
      "image/png": "[encoded data removed]",
      "text/plain": [
       "<Figure size 1500x1000 with 1 Axes>"
      ]
     },
     "metadata": {},
     "output_type": "display_data"
    }
   ],
   "source": [
    "grouped.boxplot(subplots=False, rot=45, fontsize=8, column='price', figsize=(15,10))"
   ]
  },
  {
   "attachments": {},
   "cell_type": "markdown",
   "metadata": {},
   "source": [
    "✨**As we can see in the data, February, September and October are the best time to rent by the affordable price**"
   ]
  }
 ],
 "metadata": {
  "kernelspec": {
   "display_name": "Python 3",
   "language": "python",
   "name": "python3"
  },
  "language_info": {
   "codemirror_mode": {
    "name": "ipython",
    "version": 3
   },
   "file_extension": ".py",
   "mimetype": "text/x-python",
   "name": "python",
   "nbconvert_exporter": "python",
   "pygments_lexer": "ipython3",
   "version": "3.10.6"
  },
  "vscode": {
   "interpreter": {
    "hash": "916dbcbb3f70747c44a77c7bcd40155683ae19c65e1c03b4aa3499c5328201f1"
   }
  }
 },
 "nbformat": 4,
 "nbformat_minor": 2
}
