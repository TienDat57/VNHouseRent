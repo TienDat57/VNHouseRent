{
 "cells": [
  {
   "attachments": {},
   "cell_type": "markdown",
   "metadata": {},
   "source": [
    "### <center>📜 **<font color=\"yellow\">Question 2:</font> In which months is the primary time to post rooms for rent? Why is that? (Based on back-to-school month, summer month)** </center>"
   ]
  },
  {
   "attachments": {},
   "cell_type": "markdown",
   "metadata": {},
   "source": [
    "#### 📙**Import the necessary libraries**"
   ]
  },
  {
   "cell_type": "code",
   "execution_count": 1,
   "metadata": {},
   "outputs": [],
   "source": [
    "import numpy as np\n",
    "import pandas as pd"
   ]
  },
  {
   "attachments": {},
   "cell_type": "markdown",
   "metadata": {},
   "source": [
    "---"
   ]
  },
  {
   "attachments": {},
   "cell_type": "markdown",
   "metadata": {},
   "source": [
    "### ✨ **1. Get newest data**"
   ]
  },
  {
   "cell_type": "code",
   "execution_count": 2,
   "metadata": {},
   "outputs": [
    {
     "data": {
      "text/html": [
       "<div>\n",
       "<style scoped>\n",
       "    .dataframe tbody tr th:only-of-type {\n",
       "        vertical-align: middle;\n",
       "    }\n",
       "\n",
       "    .dataframe tbody tr th {\n",
       "        vertical-align: top;\n",
       "    }\n",
       "\n",
       "    .dataframe thead th {\n",
       "        text-align: right;\n",
       "    }\n",
       "</style>\n",
       "<table border=\"1\" class=\"dataframe\">\n",
       "  <thead>\n",
       "    <tr style=\"text-align: right;\">\n",
       "      <th></th>\n",
       "      <th>title</th>\n",
       "      <th>price</th>\n",
       "      <th>published</th>\n",
       "      <th>acreage</th>\n",
       "      <th>street</th>\n",
       "      <th>ward</th>\n",
       "      <th>district</th>\n",
       "    </tr>\n",
       "    <tr>\n",
       "      <th>id</th>\n",
       "      <th></th>\n",
       "      <th></th>\n",
       "      <th></th>\n",
       "      <th></th>\n",
       "      <th></th>\n",
       "      <th></th>\n",
       "      <th></th>\n",
       "    </tr>\n",
       "  </thead>\n",
       "  <tbody>\n",
       "    <tr>\n",
       "      <th>0</th>\n",
       "      <td>Cho thuê nhà trọ mới sạch đẹp tại Lê Đình Cẩn,...</td>\n",
       "      <td>2200000</td>\n",
       "      <td>2022-05-16</td>\n",
       "      <td>20.0</td>\n",
       "      <td>Lê Đình Cẩn</td>\n",
       "      <td>Phường Tân Tạo</td>\n",
       "      <td>Quận Bình Tân</td>\n",
       "    </tr>\n",
       "    <tr>\n",
       "      <th>1</th>\n",
       "      <td>Cho thuê phòng trọ giá rẻ ở mặt tiền hẻm lớn Đ...</td>\n",
       "      <td>2500000</td>\n",
       "      <td>2022-04-20</td>\n",
       "      <td>20.0</td>\n",
       "      <td>487/35/25 Đường Huỳnh Tấn Phát</td>\n",
       "      <td>Phường Tân Thuận Đông</td>\n",
       "      <td>Quận 7</td>\n",
       "    </tr>\n",
       "    <tr>\n",
       "      <th>2</th>\n",
       "      <td>Cho thuê phòng trọ kdc Nam Long-Trần Trọng Cun...</td>\n",
       "      <td>3500000</td>\n",
       "      <td>2022-05-10</td>\n",
       "      <td>30.0</td>\n",
       "      <td>Đường 10</td>\n",
       "      <td>Phường Tân Thuận Đông</td>\n",
       "      <td>Quận 7</td>\n",
       "    </tr>\n",
       "    <tr>\n",
       "      <th>3</th>\n",
       "      <td>Phòng trọ giá rẻ ngay cổng khu chế xuất Tân Th...</td>\n",
       "      <td>1500000</td>\n",
       "      <td>2022-05-05</td>\n",
       "      <td>30.0</td>\n",
       "      <td>283/15 Huỳnh Tấn Phát</td>\n",
       "      <td>Phường Tân Thuận Đông</td>\n",
       "      <td>Quận 7</td>\n",
       "    </tr>\n",
       "    <tr>\n",
       "      <th>4</th>\n",
       "      <td>Cho thuê phòng có gác, không gác, tolet riêng ...</td>\n",
       "      <td>3500000</td>\n",
       "      <td>2022-01-05</td>\n",
       "      <td>18.0</td>\n",
       "      <td>Lê Văn Sỹ</td>\n",
       "      <td>Phường 14</td>\n",
       "      <td>Quận Phú Nhuận</td>\n",
       "    </tr>\n",
       "    <tr>\n",
       "      <th>...</th>\n",
       "      <td>...</td>\n",
       "      <td>...</td>\n",
       "      <td>...</td>\n",
       "      <td>...</td>\n",
       "      <td>...</td>\n",
       "      <td>...</td>\n",
       "      <td>...</td>\n",
       "    </tr>\n",
       "    <tr>\n",
       "      <th>8872</th>\n",
       "      <td>Cho thuê phòng trọ gần trung tâm quận 11</td>\n",
       "      <td>2200000</td>\n",
       "      <td>2020-10-30</td>\n",
       "      <td>14.0</td>\n",
       "      <td>102/9/11a Đường Bình Thới</td>\n",
       "      <td>Phường 14</td>\n",
       "      <td>Quận 11</td>\n",
       "    </tr>\n",
       "    <tr>\n",
       "      <th>8873</th>\n",
       "      <td>Cho thuê phòng hoặc tầng 1 và 2 nhà mặt tiền 1...</td>\n",
       "      <td>2500000</td>\n",
       "      <td>2020-11-23</td>\n",
       "      <td>12.0</td>\n",
       "      <td>177 Đường Tôn Thất Hiệp</td>\n",
       "      <td>Phường 12</td>\n",
       "      <td>Quận 11</td>\n",
       "    </tr>\n",
       "    <tr>\n",
       "      <th>8874</th>\n",
       "      <td>Phòng FULL NOI THAT THOÁNG ĐẸP NHƯ HÌNH GẦN LÊ...</td>\n",
       "      <td>3500000</td>\n",
       "      <td>2022-07-28</td>\n",
       "      <td>20.0</td>\n",
       "      <td>212 Đường Lò Siêu</td>\n",
       "      <td>Phường 12</td>\n",
       "      <td>Quận 11</td>\n",
       "    </tr>\n",
       "    <tr>\n",
       "      <th>8875</th>\n",
       "      <td>CHÍNH CHỦ CHO THUÊ CĂN HỘ MINI TẠI TRUNG TÂM Q11</td>\n",
       "      <td>5000000</td>\n",
       "      <td>2020-11-25</td>\n",
       "      <td>30.0</td>\n",
       "      <td>127/17 Đường Âu Cơ</td>\n",
       "      <td>Phường 14</td>\n",
       "      <td>Quận 11</td>\n",
       "    </tr>\n",
       "    <tr>\n",
       "      <th>8876</th>\n",
       "      <td>Nhượng lại phòng gần lotte 3.2 lê đại hành</td>\n",
       "      <td>3500000</td>\n",
       "      <td>2021-03-08</td>\n",
       "      <td>12.0</td>\n",
       "      <td>Đường Tôn Thất Hiệp</td>\n",
       "      <td>Phường 12</td>\n",
       "      <td>Quận 11</td>\n",
       "    </tr>\n",
       "  </tbody>\n",
       "</table>\n",
       "<p>8877 rows × 7 columns</p>\n",
       "</div>"
      ],
      "text/plain": [
       "                                                  title    price   published  \\\n",
       "id                                                                             \n",
       "0     Cho thuê nhà trọ mới sạch đẹp tại Lê Đình Cẩn,...  2200000  2022-05-16   \n",
       "1     Cho thuê phòng trọ giá rẻ ở mặt tiền hẻm lớn Đ...  2500000  2022-04-20   \n",
       "2     Cho thuê phòng trọ kdc Nam Long-Trần Trọng Cun...  3500000  2022-05-10   \n",
       "3     Phòng trọ giá rẻ ngay cổng khu chế xuất Tân Th...  1500000  2022-05-05   \n",
       "4     Cho thuê phòng có gác, không gác, tolet riêng ...  3500000  2022-01-05   \n",
       "...                                                 ...      ...         ...   \n",
       "8872           Cho thuê phòng trọ gần trung tâm quận 11  2200000  2020-10-30   \n",
       "8873  Cho thuê phòng hoặc tầng 1 và 2 nhà mặt tiền 1...  2500000  2020-11-23   \n",
       "8874  Phòng FULL NOI THAT THOÁNG ĐẸP NHƯ HÌNH GẦN LÊ...  3500000  2022-07-28   \n",
       "8875   CHÍNH CHỦ CHO THUÊ CĂN HỘ MINI TẠI TRUNG TÂM Q11  5000000  2020-11-25   \n",
       "8876         Nhượng lại phòng gần lotte 3.2 lê đại hành  3500000  2021-03-08   \n",
       "\n",
       "      acreage                          street                   ward  \\\n",
       "id                                                                     \n",
       "0        20.0                     Lê Đình Cẩn         Phường Tân Tạo   \n",
       "1        20.0  487/35/25 Đường Huỳnh Tấn Phát  Phường Tân Thuận Đông   \n",
       "2        30.0                        Đường 10  Phường Tân Thuận Đông   \n",
       "3        30.0           283/15 Huỳnh Tấn Phát  Phường Tân Thuận Đông   \n",
       "4        18.0                       Lê Văn Sỹ              Phường 14   \n",
       "...       ...                             ...                    ...   \n",
       "8872     14.0       102/9/11a Đường Bình Thới              Phường 14   \n",
       "8873     12.0         177 Đường Tôn Thất Hiệp              Phường 12   \n",
       "8874     20.0               212 Đường Lò Siêu              Phường 12   \n",
       "8875     30.0              127/17 Đường Âu Cơ              Phường 14   \n",
       "8876     12.0             Đường Tôn Thất Hiệp              Phường 12   \n",
       "\n",
       "            district  \n",
       "id                    \n",
       "0      Quận Bình Tân  \n",
       "1             Quận 7  \n",
       "2             Quận 7  \n",
       "3             Quận 7  \n",
       "4     Quận Phú Nhuận  \n",
       "...              ...  \n",
       "8872         Quận 11  \n",
       "8873         Quận 11  \n",
       "8874         Quận 11  \n",
       "8875         Quận 11  \n",
       "8876         Quận 11  \n",
       "\n",
       "[8877 rows x 7 columns]"
      ]
     },
     "execution_count": 2,
     "metadata": {},
     "output_type": "execute_result"
    }
   ],
   "source": [
    "rented_house_df = pd.read_csv('../data/HCMHouseRentPreprocessing.csv')\n",
    "rented_house_df.head()\n",
    "rented_house_df.set_index('id')"
   ]
  },
  {
   "attachments": {},
   "cell_type": "markdown",
   "metadata": {},
   "source": [
    "### 💎 **2. Group by month the number of rented houses posted over the years.**"
   ]
  },
  {
   "cell_type": "code",
   "execution_count": 3,
   "metadata": {},
   "outputs": [
    {
     "data": {
      "text/plain": [
       "month  year\n",
       "1      2016      3\n",
       "       2017      6\n",
       "       2018     24\n",
       "       2019     27\n",
       "       2020     35\n",
       "       2021    118\n",
       "       2022    194\n",
       "2      2016      6\n",
       "       2017     11\n",
       "       2018     17\n",
       "       2019     29\n",
       "       2020     90\n",
       "Name: month_year, dtype: int64"
      ]
     },
     "execution_count": 3,
     "metadata": {},
     "output_type": "execute_result"
    }
   ],
   "source": [
    "# create month and year columns \n",
    "rented_house_df['month'] = pd.DatetimeIndex(rented_house_df['published']).month\n",
    "rented_house_df['year'] = pd.DatetimeIndex(rented_house_df['published']).year\n",
    "\n",
    "# create month_year column and convert to format YYYY-MM\n",
    "rented_house_df['month_year'] = pd.to_datetime(rented_house_df[['year', 'month']].assign(DAY=1))\n",
    "rented_house_df['month_year'] = pd.to_datetime(rented_house_df['month_year']).dt.strftime('%Y-%m')\n",
    "\n",
    "# group by month and count number of houses\n",
    "rented_house_df['month_year'].groupby(rented_house_df['month']).count()\n",
    "\n",
    "# calculate number of houses in month for each year\n",
    "month_each_year = rented_house_df['month_year'].groupby([rented_house_df['month'], rented_house_df['year']]).count()\n",
    "month_each_year.head(12)\n"
   ]
  },
  {
   "attachments": {},
   "cell_type": "markdown",
   "metadata": {},
   "source": [
    "### ⌨ **3. Create dataframe with month, total number of houses and average number of houses.**"
   ]
  },
  {
   "cell_type": "code",
   "execution_count": 4,
   "metadata": {},
   "outputs": [
    {
     "data": {
      "text/html": [
       "<div>\n",
       "<style scoped>\n",
       "    .dataframe tbody tr th:only-of-type {\n",
       "        vertical-align: middle;\n",
       "    }\n",
       "\n",
       "    .dataframe tbody tr th {\n",
       "        vertical-align: top;\n",
       "    }\n",
       "\n",
       "    .dataframe thead th {\n",
       "        text-align: right;\n",
       "    }\n",
       "</style>\n",
       "<table border=\"1\" class=\"dataframe\">\n",
       "  <thead>\n",
       "    <tr style=\"text-align: right;\">\n",
       "      <th></th>\n",
       "      <th>month</th>\n",
       "      <th>sum_each_month</th>\n",
       "      <th>average</th>\n",
       "    </tr>\n",
       "  </thead>\n",
       "  <tbody>\n",
       "    <tr>\n",
       "      <th>0</th>\n",
       "      <td>1</td>\n",
       "      <td>407</td>\n",
       "      <td>50.875</td>\n",
       "    </tr>\n",
       "    <tr>\n",
       "      <th>1</th>\n",
       "      <td>2</td>\n",
       "      <td>545</td>\n",
       "      <td>68.125</td>\n",
       "    </tr>\n",
       "    <tr>\n",
       "      <th>2</th>\n",
       "      <td>3</td>\n",
       "      <td>733</td>\n",
       "      <td>91.625</td>\n",
       "    </tr>\n",
       "    <tr>\n",
       "      <th>3</th>\n",
       "      <td>4</td>\n",
       "      <td>860</td>\n",
       "      <td>107.500</td>\n",
       "    </tr>\n",
       "    <tr>\n",
       "      <th>4</th>\n",
       "      <td>5</td>\n",
       "      <td>1185</td>\n",
       "      <td>148.125</td>\n",
       "    </tr>\n",
       "    <tr>\n",
       "      <th>5</th>\n",
       "      <td>6</td>\n",
       "      <td>1097</td>\n",
       "      <td>137.125</td>\n",
       "    </tr>\n",
       "    <tr>\n",
       "      <th>6</th>\n",
       "      <td>7</td>\n",
       "      <td>1333</td>\n",
       "      <td>166.625</td>\n",
       "    </tr>\n",
       "    <tr>\n",
       "      <th>7</th>\n",
       "      <td>8</td>\n",
       "      <td>553</td>\n",
       "      <td>69.125</td>\n",
       "    </tr>\n",
       "    <tr>\n",
       "      <th>8</th>\n",
       "      <td>9</td>\n",
       "      <td>272</td>\n",
       "      <td>34.000</td>\n",
       "    </tr>\n",
       "    <tr>\n",
       "      <th>9</th>\n",
       "      <td>10</td>\n",
       "      <td>546</td>\n",
       "      <td>68.250</td>\n",
       "    </tr>\n",
       "    <tr>\n",
       "      <th>10</th>\n",
       "      <td>11</td>\n",
       "      <td>654</td>\n",
       "      <td>81.750</td>\n",
       "    </tr>\n",
       "    <tr>\n",
       "      <th>11</th>\n",
       "      <td>12</td>\n",
       "      <td>692</td>\n",
       "      <td>86.500</td>\n",
       "    </tr>\n",
       "  </tbody>\n",
       "</table>\n",
       "</div>"
      ],
      "text/plain": [
       "    month  sum_each_month  average\n",
       "0       1             407   50.875\n",
       "1       2             545   68.125\n",
       "2       3             733   91.625\n",
       "3       4             860  107.500\n",
       "4       5            1185  148.125\n",
       "5       6            1097  137.125\n",
       "6       7            1333  166.625\n",
       "7       8             553   69.125\n",
       "8       9             272   34.000\n",
       "9      10             546   68.250\n",
       "10     11             654   81.750\n",
       "11     12             692   86.500"
      ]
     },
     "execution_count": 4,
     "metadata": {},
     "output_type": "execute_result"
    }
   ],
   "source": [
    "# sum of number of houses in month for each year\n",
    "sum_each_month = month_each_year.groupby(month_each_year.index.get_level_values(0)).sum().reindex(range(1,13)).reindex(range(1,13), fill_value=0)\n",
    "# create a dataframe with month and sum_each_month column\n",
    "sum_each_month_df = pd.DataFrame({'month': sum_each_month.index, 'sum_each_month': sum_each_month.values})\n",
    "sum_each_month_df\n",
    "sum_each_month_df['average'] = sum_each_month_df['sum_each_month'] / (rented_house_df['year'].unique().size)\n",
    "sum_each_month_df"
   ]
  },
  {
   "attachments": {},
   "cell_type": "markdown",
   "metadata": {},
   "source": [
    "### 📝 **4. Visualize the average number of houses posted in each month.**"
   ]
  },
  {
   "cell_type": "code",
   "execution_count": 5,
   "metadata": {},
   "outputs": [
    {
     "data": {
      "text/plain": [
       "<AxesSubplot:title={'center':'Average number of houses rented in each month'}, xlabel='month'>"
      ]
     },
     "execution_count": 5,
     "metadata": {},
     "output_type": "execute_result"
    },
    {
     "data": {
      "image/png": "[encoded data removed]",
      "text/plain": [
       "<Figure size 640x480 with 1 Axes>"
      ]
     },
     "metadata": {},
     "output_type": "display_data"
    }
   ],
   "source": [
    "# plot average number of houses rented in each month \n",
    "sum_each_month_df.plot(x='month', y='average', kind='bar', title='Average number of houses rented in each month')"
   ]
  },
  {
   "attachments": {},
   "cell_type": "markdown",
   "metadata": {},
   "source": [
    "&#9889; <font color=\"yellow\"><b>What are benefits of finding the answer? </b></font>\n",
    ">- Monthly statistics of the year help homeowners have plans to serve the times when the demand for rent is high in the city.\n",
    ">- According to the chart, the number of rooms posted in the months of May, June, and July is quite high (average over 140 rooms). This is also easy to explain because it is the time when students enroll and need to find accommodation.\n",
    ">- Therefore, the following months (August, September, and October) the number of rooms for rent is quite low, nearly halving compared to the previous months (about 35 to 70 rooms) because this is the time when students enter school. accommodation has been settled.\n",
    ">- The remaining months average between 70 and 110 rooms per month.\n",
    "> => Thus, from the above data, we can tell landlords when the demand for rental housing increases so that there are prepared mechanisms to respond.\n",
    "    "
   ]
  },
  {
   "cell_type": "markdown",
   "metadata": {},
   "source": []
  }
 ],
 "metadata": {
  "kernelspec": {
   "display_name": "min_ds-env",
   "language": "python",
   "name": "python3"
  },
  "language_info": {
   "codemirror_mode": {
    "name": "ipython",
    "version": 3
   },
   "file_extension": ".py",
   "mimetype": "text/x-python",
   "name": "python",
   "nbconvert_exporter": "python",
   "pygments_lexer": "ipython3",
   "version": "3.8.8 | packaged by conda-forge | (default, Feb 20 2021, 16:22:27) \n[GCC 9.3.0]"
  },
  "orig_nbformat": 4,
  "vscode": {
   "interpreter": {
    "hash": "a5e1ec076bd572246a92e5395011ccb4d0c3c0a63992a65b30abbf30f49ecb0c"
   }
  }
 },
 "nbformat": 4,
 "nbformat_minor": 2
}
