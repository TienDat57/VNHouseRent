{
 "cells": [
  {
   "attachments": {},
   "cell_type": "markdown",
   "metadata": {},
   "source": [
    "### <center>📜 **<font color=\"pink\">Question 3:</font> The price of rented houses over the years. Why is there such an increase and decrease every year?** </center>"
   ]
  },
  {
   "attachments": {},
   "cell_type": "markdown",
   "metadata": {},
   "source": [
    "#### 📙**Import the necessary libraries**"
   ]
  },
  {
   "cell_type": "code",
   "execution_count": 2,
   "metadata": {},
   "outputs": [],
   "source": [
    "import numpy as np\n",
    "import pandas as pd\n",
    "import matplotlib.pyplot as plt\n"
   ]
  },
  {
   "attachments": {},
   "cell_type": "markdown",
   "metadata": {},
   "source": [
    "### ✨ **1. Get newest data**"
   ]
  },
  {
   "cell_type": "code",
   "execution_count": 14,
   "metadata": {},
   "outputs": [
    {
     "data": {
      "text/html": [
       "<div>\n",
       "<style scoped>\n",
       "    .dataframe tbody tr th:only-of-type {\n",
       "        vertical-align: middle;\n",
       "    }\n",
       "\n",
       "    .dataframe tbody tr th {\n",
       "        vertical-align: top;\n",
       "    }\n",
       "\n",
       "    .dataframe thead th {\n",
       "        text-align: right;\n",
       "    }\n",
       "</style>\n",
       "<table border=\"1\" class=\"dataframe\">\n",
       "  <thead>\n",
       "    <tr style=\"text-align: right;\">\n",
       "      <th></th>\n",
       "      <th>title</th>\n",
       "      <th>price</th>\n",
       "      <th>published</th>\n",
       "      <th>acreage</th>\n",
       "      <th>street</th>\n",
       "      <th>ward</th>\n",
       "      <th>district</th>\n",
       "    </tr>\n",
       "    <tr>\n",
       "      <th>id</th>\n",
       "      <th></th>\n",
       "      <th></th>\n",
       "      <th></th>\n",
       "      <th></th>\n",
       "      <th></th>\n",
       "      <th></th>\n",
       "      <th></th>\n",
       "    </tr>\n",
       "  </thead>\n",
       "  <tbody>\n",
       "    <tr>\n",
       "      <th>0</th>\n",
       "      <td>Cho thuê nhà trọ mới sạch đẹp tại Lê Đình Cẩn,...</td>\n",
       "      <td>2200000</td>\n",
       "      <td>2022-05-16</td>\n",
       "      <td>20.0</td>\n",
       "      <td>Lê Đình Cẩn</td>\n",
       "      <td>Phường Tân Tạo</td>\n",
       "      <td>Quận Bình Tân</td>\n",
       "    </tr>\n",
       "    <tr>\n",
       "      <th>1</th>\n",
       "      <td>Cho thuê phòng trọ giá rẻ ở mặt tiền hẻm lớn Đ...</td>\n",
       "      <td>2500000</td>\n",
       "      <td>2022-04-20</td>\n",
       "      <td>20.0</td>\n",
       "      <td>487/35/25 Đường Huỳnh Tấn Phát</td>\n",
       "      <td>Phường Tân Thuận Đông</td>\n",
       "      <td>Quận 7</td>\n",
       "    </tr>\n",
       "    <tr>\n",
       "      <th>2</th>\n",
       "      <td>Cho thuê phòng trọ kdc Nam Long-Trần Trọng Cun...</td>\n",
       "      <td>3500000</td>\n",
       "      <td>2022-05-10</td>\n",
       "      <td>30.0</td>\n",
       "      <td>Đường 10</td>\n",
       "      <td>Phường Tân Thuận Đông</td>\n",
       "      <td>Quận 7</td>\n",
       "    </tr>\n",
       "    <tr>\n",
       "      <th>3</th>\n",
       "      <td>Phòng trọ giá rẻ ngay cổng khu chế xuất Tân Th...</td>\n",
       "      <td>1500000</td>\n",
       "      <td>2022-05-05</td>\n",
       "      <td>30.0</td>\n",
       "      <td>283/15 Huỳnh Tấn Phát</td>\n",
       "      <td>Phường Tân Thuận Đông</td>\n",
       "      <td>Quận 7</td>\n",
       "    </tr>\n",
       "    <tr>\n",
       "      <th>4</th>\n",
       "      <td>Cho thuê phòng có gác, không gác, tolet riêng ...</td>\n",
       "      <td>3500000</td>\n",
       "      <td>2022-01-05</td>\n",
       "      <td>18.0</td>\n",
       "      <td>Lê Văn Sỹ</td>\n",
       "      <td>Phường 14</td>\n",
       "      <td>Quận Phú Nhuận</td>\n",
       "    </tr>\n",
       "    <tr>\n",
       "      <th>...</th>\n",
       "      <td>...</td>\n",
       "      <td>...</td>\n",
       "      <td>...</td>\n",
       "      <td>...</td>\n",
       "      <td>...</td>\n",
       "      <td>...</td>\n",
       "      <td>...</td>\n",
       "    </tr>\n",
       "    <tr>\n",
       "      <th>8880</th>\n",
       "      <td>Cho thuê phòng trọ gần trung tâm quận 11</td>\n",
       "      <td>2200000</td>\n",
       "      <td>2020-10-30</td>\n",
       "      <td>14.0</td>\n",
       "      <td>102/9/11a Đường Bình Thới</td>\n",
       "      <td>Phường 14</td>\n",
       "      <td>Quận 11</td>\n",
       "    </tr>\n",
       "    <tr>\n",
       "      <th>8881</th>\n",
       "      <td>Cho thuê phòng hoặc tầng 1 và 2 nhà mặt tiền 1...</td>\n",
       "      <td>2500000</td>\n",
       "      <td>2020-11-23</td>\n",
       "      <td>12.0</td>\n",
       "      <td>177 Đường Tôn Thất Hiệp</td>\n",
       "      <td>Phường 12</td>\n",
       "      <td>Quận 11</td>\n",
       "    </tr>\n",
       "    <tr>\n",
       "      <th>8882</th>\n",
       "      <td>Phòng FULL NOI THAT THOÁNG ĐẸP NHƯ HÌNH GẦN LÊ...</td>\n",
       "      <td>3500000</td>\n",
       "      <td>2022-07-28</td>\n",
       "      <td>20.0</td>\n",
       "      <td>212 Đường Lò Siêu</td>\n",
       "      <td>Phường 12</td>\n",
       "      <td>Quận 11</td>\n",
       "    </tr>\n",
       "    <tr>\n",
       "      <th>8883</th>\n",
       "      <td>CHÍNH CHỦ CHO THUÊ CĂN HỘ MINI TẠI TRUNG TÂM Q11</td>\n",
       "      <td>5000000</td>\n",
       "      <td>2020-11-25</td>\n",
       "      <td>30.0</td>\n",
       "      <td>127/17 Đường Âu Cơ</td>\n",
       "      <td>Phường 14</td>\n",
       "      <td>Quận 11</td>\n",
       "    </tr>\n",
       "    <tr>\n",
       "      <th>8884</th>\n",
       "      <td>Nhượng lại phòng gần lotte 3.2 lê đại hành</td>\n",
       "      <td>3500000</td>\n",
       "      <td>2021-03-08</td>\n",
       "      <td>12.0</td>\n",
       "      <td>Đường Tôn Thất Hiệp</td>\n",
       "      <td>Phường 12</td>\n",
       "      <td>Quận 11</td>\n",
       "    </tr>\n",
       "  </tbody>\n",
       "</table>\n",
       "<p>8885 rows × 7 columns</p>\n",
       "</div>"
      ],
      "text/plain": [
       "                                                  title    price  published  \\\n",
       "id                                                                            \n",
       "0     Cho thuê nhà trọ mới sạch đẹp tại Lê Đình Cẩn,...  2200000 2022-05-16   \n",
       "1     Cho thuê phòng trọ giá rẻ ở mặt tiền hẻm lớn Đ...  2500000 2022-04-20   \n",
       "2     Cho thuê phòng trọ kdc Nam Long-Trần Trọng Cun...  3500000 2022-05-10   \n",
       "3     Phòng trọ giá rẻ ngay cổng khu chế xuất Tân Th...  1500000 2022-05-05   \n",
       "4     Cho thuê phòng có gác, không gác, tolet riêng ...  3500000 2022-01-05   \n",
       "...                                                 ...      ...        ...   \n",
       "8880           Cho thuê phòng trọ gần trung tâm quận 11  2200000 2020-10-30   \n",
       "8881  Cho thuê phòng hoặc tầng 1 và 2 nhà mặt tiền 1...  2500000 2020-11-23   \n",
       "8882  Phòng FULL NOI THAT THOÁNG ĐẸP NHƯ HÌNH GẦN LÊ...  3500000 2022-07-28   \n",
       "8883   CHÍNH CHỦ CHO THUÊ CĂN HỘ MINI TẠI TRUNG TÂM Q11  5000000 2020-11-25   \n",
       "8884         Nhượng lại phòng gần lotte 3.2 lê đại hành  3500000 2021-03-08   \n",
       "\n",
       "      acreage                          street                   ward  \\\n",
       "id                                                                     \n",
       "0        20.0                     Lê Đình Cẩn         Phường Tân Tạo   \n",
       "1        20.0  487/35/25 Đường Huỳnh Tấn Phát  Phường Tân Thuận Đông   \n",
       "2        30.0                        Đường 10  Phường Tân Thuận Đông   \n",
       "3        30.0           283/15 Huỳnh Tấn Phát  Phường Tân Thuận Đông   \n",
       "4        18.0                       Lê Văn Sỹ              Phường 14   \n",
       "...       ...                             ...                    ...   \n",
       "8880     14.0       102/9/11a Đường Bình Thới              Phường 14   \n",
       "8881     12.0         177 Đường Tôn Thất Hiệp              Phường 12   \n",
       "8882     20.0               212 Đường Lò Siêu              Phường 12   \n",
       "8883     30.0              127/17 Đường Âu Cơ              Phường 14   \n",
       "8884     12.0             Đường Tôn Thất Hiệp              Phường 12   \n",
       "\n",
       "            district  \n",
       "id                    \n",
       "0      Quận Bình Tân  \n",
       "1             Quận 7  \n",
       "2             Quận 7  \n",
       "3             Quận 7  \n",
       "4     Quận Phú Nhuận  \n",
       "...              ...  \n",
       "8880         Quận 11  \n",
       "8881         Quận 11  \n",
       "8882         Quận 11  \n",
       "8883         Quận 11  \n",
       "8884         Quận 11  \n",
       "\n",
       "[8885 rows x 7 columns]"
      ]
     },
     "execution_count": 14,
     "metadata": {},
     "output_type": "execute_result"
    }
   ],
   "source": [
    "HCMHouseRent = pd.read_csv('../data/HCMHouseRentPreprocessing.csv')\n",
    "HCMHouseRent['published'] = pd.to_datetime(HCMHouseRent['published'])\n",
    "HCMHouseRent.set_index('id')"
   ]
  },
  {
   "attachments": {},
   "cell_type": "markdown",
   "metadata": {},
   "source": [
    "> Get mean price per year"
   ]
  },
  {
   "cell_type": "code",
   "execution_count": 15,
   "metadata": {},
   "outputs": [],
   "source": [
    "df = {}\n",
    "df['published'] = HCMHouseRent.groupby(HCMHouseRent['published'].dt.year, axis=0)['price'].mean()"
   ]
  },
  {
   "attachments": {},
   "cell_type": "markdown",
   "metadata": {},
   "source": [
    "### 🎖 **2. Visualization by the price of each year.**"
   ]
  },
  {
   "cell_type": "code",
   "execution_count": 4,
   "metadata": {},
   "outputs": [
    {
     "data": {
      "image/png": "[encoded data removed]",
      "text/plain": [
       "<Figure size 1000x500 with 1 Axes>"
      ]
     },
     "metadata": {},
     "output_type": "display_data"
    }
   ],
   "source": [
    "plt.figure(figsize=(10, 5))\n",
    "plt.plot(df['published'].index, df['published'].values)\n",
    "plt.xlabel('Năm')\n",
    "plt.ylabel('Trung bình tiền trọ')\n",
    "plt.title('Giá tiền trọ theo năm')\n",
    "plt.show()"
   ]
  },
  {
   "attachments": {},
   "cell_type": "markdown",
   "metadata": {},
   "source": [
    "> Within 5 years from 2018-2022, the rental price is stable year by year, it does not go up or down, then the market is gradually stabilizing and has a specific price."
   ]
  },
  {
   "attachments": {},
   "cell_type": "markdown",
   "metadata": {},
   "source": [
    "&#9889; <font color=\"yellow\"><b>What are benefits of finding the answer? </b></font>\n",
    ">- Evaluate the price of accommodation every year\n",
    ">- We can know  the rental rates fluctuated in HCM City\n",
    ">- As we can see, during the years (2018 - 2020) of the covid epidemic, the price of accommodation has decreased significantly\n",
    "\n"
   ]
  }
 ],
 "metadata": {
  "kernelspec": {
   "display_name": "Python 3",
   "language": "python",
   "name": "python3"
  },
  "language_info": {
   "codemirror_mode": {
    "name": "ipython",
    "version": 3
   },
   "file_extension": ".py",
   "mimetype": "text/x-python",
   "name": "python",
   "nbconvert_exporter": "python",
   "pygments_lexer": "ipython3",
   "version": "3.10.6"
  },
  "orig_nbformat": 4,
  "vscode": {
   "interpreter": {
    "hash": "916dbcbb3f70747c44a77c7bcd40155683ae19c65e1c03b4aa3499c5328201f1"
   }
  }
 },
 "nbformat": 4,
 "nbformat_minor": 2
}
